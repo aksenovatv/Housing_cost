{
 "cells": [
  {
   "cell_type": "markdown",
   "id": "GEqQaHzsZ_bA",
   "metadata": {
    "id": "GEqQaHzsZ_bA"
   },
   "source": [
    "# Предсказание стоимости жилья"
   ]
  },
  {
   "cell_type": "code",
   "execution_count": 1,
   "id": "4a15f9d7",
   "metadata": {},
   "outputs": [],
   "source": [
    "# сделаем необходимые импорты\n",
    "\n",
    "import pandas as pd \n",
    "import numpy as np\n",
    "import seaborn as sns\n",
    "import matplotlib.pyplot as plt\n",
    "import warnings\n",
    "\n",
    "!pip install pyspark -q\n",
    "import pyspark\n",
    "from pyspark.sql import SparkSession\n",
    "from pyspark.sql.types import *\n",
    "import pyspark.sql.functions as F\n",
    "\n",
    "from pyspark.ml.feature import StringIndexer, VectorAssembler, StandardScaler\n",
    "from pyspark.ml.regression import LinearRegression\n",
    "from pyspark.ml.tuning import ParamGridBuilder, CrossValidator\n",
    "from pyspark.ml.evaluation import RegressionEvaluator\n",
    "from pyspark.ml import Pipeline\n",
    "\n",
    "pyspark_version = pyspark.__version__\n",
    "if int(pyspark_version[:1]) == 3:\n",
    "    from pyspark.ml.feature import OneHotEncoder    \n",
    "elif int(pyspark_version[:1]) == 2:\n",
    "    from pyspark.ml.feature import OneHotEncodeEstimator\n",
    "    \n",
    "RANDOM_SEED = 2022\n",
    "\n",
    "warnings.filterwarnings('ignore')\n",
    "plt.rcParams[\"figure.figsize\"] = (10, 6)"
   ]
  },
  {
   "cell_type": "code",
   "execution_count": 2,
   "id": "5d0a65f0",
   "metadata": {},
   "outputs": [],
   "source": [
    "# инициализация Spark-сессии\n",
    "spark = SparkSession.builder \\\n",
    "                    .master('local') \\\n",
    "                    .appName('EDA California Housing') \\\n",
    "                    .getOrCreate() \n",
    "\n",
    "spark.sparkContext.setLogLevel(\"ERROR\")"
   ]
  },
  {
   "cell_type": "code",
   "execution_count": 3,
   "id": "41f957f5",
   "metadata": {},
   "outputs": [
    {
     "name": "stderr",
     "output_type": "stream",
     "text": [
      "                                                                                \r"
     ]
    }
   ],
   "source": [
    "# прочитаем файл\n",
    "housing = spark.read.load('./housing.csv', format='csv', sep=',', inferSchema=True, header=\"true\")"
   ]
  },
  {
   "cell_type": "code",
   "execution_count": 4,
   "id": "ca70fa1c",
   "metadata": {},
   "outputs": [
    {
     "name": "stdout",
     "output_type": "stream",
     "text": [
      "root\n",
      " |-- longitude: double (nullable = true)\n",
      " |-- latitude: double (nullable = true)\n",
      " |-- housing_median_age: double (nullable = true)\n",
      " |-- total_rooms: double (nullable = true)\n",
      " |-- total_bedrooms: double (nullable = true)\n",
      " |-- population: double (nullable = true)\n",
      " |-- households: double (nullable = true)\n",
      " |-- median_income: double (nullable = true)\n",
      " |-- median_house_value: double (nullable = true)\n",
      " |-- ocean_proximity: string (nullable = true)\n",
      "\n"
     ]
    }
   ],
   "source": [
    "# загрузим схему \n",
    "housing.printSchema()"
   ]
  },
  {
   "cell_type": "code",
   "execution_count": 5,
   "id": "ceaa2da7",
   "metadata": {},
   "outputs": [
    {
     "name": "stdout",
     "output_type": "stream",
     "text": [
      "+---------+--------+------------------+-----------+--------------+----------+----------+-------------+------------------+---------------+\n",
      "|longitude|latitude|housing_median_age|total_rooms|total_bedrooms|population|households|median_income|median_house_value|ocean_proximity|\n",
      "+---------+--------+------------------+-----------+--------------+----------+----------+-------------+------------------+---------------+\n",
      "|  -122.23|   37.88|              41.0|      880.0|         129.0|     322.0|     126.0|       8.3252|          452600.0|       NEAR BAY|\n",
      "|  -122.22|   37.86|              21.0|     7099.0|        1106.0|    2401.0|    1138.0|       8.3014|          358500.0|       NEAR BAY|\n",
      "|  -122.24|   37.85|              52.0|     1467.0|         190.0|     496.0|     177.0|       7.2574|          352100.0|       NEAR BAY|\n",
      "|  -122.25|   37.85|              52.0|     1274.0|         235.0|     558.0|     219.0|       5.6431|          341300.0|       NEAR BAY|\n",
      "|  -122.25|   37.85|              52.0|     1627.0|         280.0|     565.0|     259.0|       3.8462|          342200.0|       NEAR BAY|\n",
      "+---------+--------+------------------+-----------+--------------+----------+----------+-------------+------------------+---------------+\n",
      "only showing top 5 rows\n",
      "\n"
     ]
    }
   ],
   "source": [
    "# посмотрим первые строки\n",
    "housing.show(5)"
   ]
  },
  {
   "cell_type": "code",
   "execution_count": 6,
   "id": "996560f9",
   "metadata": {},
   "outputs": [
    {
     "name": "stderr",
     "output_type": "stream",
     "text": [
      "                                                                                \r"
     ]
    },
    {
     "data": {
      "text/html": [
       "<div>\n",
       "<style scoped>\n",
       "    .dataframe tbody tr th:only-of-type {\n",
       "        vertical-align: middle;\n",
       "    }\n",
       "\n",
       "    .dataframe tbody tr th {\n",
       "        vertical-align: top;\n",
       "    }\n",
       "\n",
       "    .dataframe thead th {\n",
       "        text-align: right;\n",
       "    }\n",
       "</style>\n",
       "<table border=\"1\" class=\"dataframe\">\n",
       "  <thead>\n",
       "    <tr style=\"text-align: right;\">\n",
       "      <th></th>\n",
       "      <th>summary</th>\n",
       "      <th>longitude</th>\n",
       "      <th>latitude</th>\n",
       "      <th>housing_median_age</th>\n",
       "      <th>total_rooms</th>\n",
       "      <th>total_bedrooms</th>\n",
       "      <th>population</th>\n",
       "      <th>households</th>\n",
       "      <th>median_income</th>\n",
       "      <th>median_house_value</th>\n",
       "      <th>ocean_proximity</th>\n",
       "    </tr>\n",
       "  </thead>\n",
       "  <tbody>\n",
       "    <tr>\n",
       "      <th>0</th>\n",
       "      <td>count</td>\n",
       "      <td>20640</td>\n",
       "      <td>20640</td>\n",
       "      <td>20640</td>\n",
       "      <td>20640</td>\n",
       "      <td>20433</td>\n",
       "      <td>20640</td>\n",
       "      <td>20640</td>\n",
       "      <td>20640</td>\n",
       "      <td>20640</td>\n",
       "      <td>20640</td>\n",
       "    </tr>\n",
       "    <tr>\n",
       "      <th>1</th>\n",
       "      <td>mean</td>\n",
       "      <td>-119.56970445736148</td>\n",
       "      <td>35.6318614341087</td>\n",
       "      <td>28.639486434108527</td>\n",
       "      <td>2635.7630813953488</td>\n",
       "      <td>537.8705525375618</td>\n",
       "      <td>1425.4767441860465</td>\n",
       "      <td>499.5396802325581</td>\n",
       "      <td>3.8706710029070246</td>\n",
       "      <td>206855.81690891474</td>\n",
       "      <td>None</td>\n",
       "    </tr>\n",
       "    <tr>\n",
       "      <th>2</th>\n",
       "      <td>stddev</td>\n",
       "      <td>2.003531723502584</td>\n",
       "      <td>2.135952397457101</td>\n",
       "      <td>12.58555761211163</td>\n",
       "      <td>2181.6152515827944</td>\n",
       "      <td>421.38507007403115</td>\n",
       "      <td>1132.46212176534</td>\n",
       "      <td>382.3297528316098</td>\n",
       "      <td>1.899821717945263</td>\n",
       "      <td>115395.61587441359</td>\n",
       "      <td>None</td>\n",
       "    </tr>\n",
       "    <tr>\n",
       "      <th>3</th>\n",
       "      <td>min</td>\n",
       "      <td>-124.35</td>\n",
       "      <td>32.54</td>\n",
       "      <td>1.0</td>\n",
       "      <td>2.0</td>\n",
       "      <td>1.0</td>\n",
       "      <td>3.0</td>\n",
       "      <td>1.0</td>\n",
       "      <td>0.4999</td>\n",
       "      <td>14999.0</td>\n",
       "      <td>&lt;1H OCEAN</td>\n",
       "    </tr>\n",
       "    <tr>\n",
       "      <th>4</th>\n",
       "      <td>max</td>\n",
       "      <td>-114.31</td>\n",
       "      <td>41.95</td>\n",
       "      <td>52.0</td>\n",
       "      <td>39320.0</td>\n",
       "      <td>6445.0</td>\n",
       "      <td>35682.0</td>\n",
       "      <td>6082.0</td>\n",
       "      <td>15.0001</td>\n",
       "      <td>500001.0</td>\n",
       "      <td>NEAR OCEAN</td>\n",
       "    </tr>\n",
       "  </tbody>\n",
       "</table>\n",
       "</div>"
      ],
      "text/plain": [
       "  summary            longitude           latitude  housing_median_age  \\\n",
       "0   count                20640              20640               20640   \n",
       "1    mean  -119.56970445736148   35.6318614341087  28.639486434108527   \n",
       "2  stddev    2.003531723502584  2.135952397457101   12.58555761211163   \n",
       "3     min              -124.35              32.54                 1.0   \n",
       "4     max              -114.31              41.95                52.0   \n",
       "\n",
       "          total_rooms      total_bedrooms          population  \\\n",
       "0               20640               20433               20640   \n",
       "1  2635.7630813953488   537.8705525375618  1425.4767441860465   \n",
       "2  2181.6152515827944  421.38507007403115    1132.46212176534   \n",
       "3                 2.0                 1.0                 3.0   \n",
       "4             39320.0              6445.0             35682.0   \n",
       "\n",
       "          households       median_income  median_house_value ocean_proximity  \n",
       "0              20640               20640               20640           20640  \n",
       "1  499.5396802325581  3.8706710029070246  206855.81690891474            None  \n",
       "2  382.3297528316098   1.899821717945263  115395.61587441359            None  \n",
       "3                1.0              0.4999             14999.0       <1H OCEAN  \n",
       "4             6082.0             15.0001            500001.0      NEAR OCEAN  "
      ]
     },
     "execution_count": 6,
     "metadata": {},
     "output_type": "execute_result"
    }
   ],
   "source": [
    "# посмотрим описание данных\n",
    "housing.describe().toPandas()"
   ]
  },
  {
   "cell_type": "code",
   "execution_count": 7,
   "id": "048be443",
   "metadata": {},
   "outputs": [
    {
     "data": {
      "text/plain": [
       "20640"
      ]
     },
     "execution_count": 7,
     "metadata": {},
     "output_type": "execute_result"
    }
   ],
   "source": [
    "housing.count()"
   ]
  },
  {
   "cell_type": "markdown",
   "id": "6af04c97",
   "metadata": {},
   "source": [
    "**Вывод**\\\n",
    "В датасете 20640 записей, 10 столбцов.\n",
    "Один категориальный признак - `ocean_proximity`, означающий удалённость ЖК от океана, остальные признаки числовые."
   ]
  },
  {
   "cell_type": "markdown",
   "id": "53871372",
   "metadata": {
    "id": "53871372"
   },
   "source": [
    "## Подготовка данных"
   ]
  },
  {
   "cell_type": "markdown",
   "id": "aadaa113",
   "metadata": {},
   "source": [
    "Изучим данные на пропуски и дубликаты"
   ]
  },
  {
   "cell_type": "code",
   "execution_count": 8,
   "id": "cba9e88d",
   "metadata": {},
   "outputs": [
    {
     "name": "stdout",
     "output_type": "stream",
     "text": [
      "longitude 0\n",
      "latitude 0\n",
      "housing_median_age 0\n",
      "total_rooms 0\n",
      "total_bedrooms 0\n",
      "population 0\n",
      "households 0\n",
      "median_income 0\n",
      "median_house_value 0\n",
      "ocean_proximity 0\n"
     ]
    }
   ],
   "source": [
    "columns = housing.columns\n",
    "\n",
    "for column in columns:\n",
    "    check_col = F.isnan(F.col(column))\n",
    "    print(column, housing.filter(check_col).count())"
   ]
  },
  {
   "cell_type": "code",
   "execution_count": 9,
   "id": "9c7f659a",
   "metadata": {},
   "outputs": [
    {
     "name": "stdout",
     "output_type": "stream",
     "text": [
      "longitude 0\n",
      "latitude 0\n",
      "housing_median_age 0\n",
      "total_rooms 0\n",
      "total_bedrooms 207\n",
      "population 0\n",
      "households 0\n",
      "median_income 0\n",
      "median_house_value 0\n",
      "ocean_proximity 0\n"
     ]
    }
   ],
   "source": [
    "for column in columns:\n",
    "    check_col = F.isnull(F.col(column))\n",
    "    print(column, housing.filter(check_col).count())"
   ]
  },
  {
   "cell_type": "code",
   "execution_count": 10,
   "id": "f4488c0e",
   "metadata": {},
   "outputs": [],
   "source": [
    "#housing.count() - housing.dropDuplicates(housing.columns).count()"
   ]
  },
  {
   "cell_type": "code",
   "execution_count": 11,
   "id": "50bb51df",
   "metadata": {},
   "outputs": [
    {
     "name": "stdout",
     "output_type": "stream",
     "text": [
      "Количество строк всего 20640\n"
     ]
    },
    {
     "name": "stderr",
     "output_type": "stream",
     "text": [
      "[Stage 50:=====================================================>(198 + 1) / 200]\r"
     ]
    },
    {
     "name": "stdout",
     "output_type": "stream",
     "text": [
      "Количество уникальных строк 20640\n"
     ]
    },
    {
     "name": "stderr",
     "output_type": "stream",
     "text": [
      "                                                                                \r"
     ]
    }
   ],
   "source": [
    "print ('Количество строк всего', housing.count ())\n",
    "print ('Количество уникальных строк', housing.distinct().count())"
   ]
  },
  {
   "cell_type": "markdown",
   "id": "85cda17a",
   "metadata": {},
   "source": [
    "Заполним пропуски медианным значением"
   ]
  },
  {
   "cell_type": "code",
   "execution_count": 12,
   "id": "b276105e",
   "metadata": {},
   "outputs": [],
   "source": [
    "housing = housing.na.fill(int(housing.approxQuantile('total_bedrooms', [0.5], 0)[0]))"
   ]
  },
  {
   "cell_type": "code",
   "execution_count": 13,
   "id": "6280ea7d",
   "metadata": {},
   "outputs": [
    {
     "name": "stdout",
     "output_type": "stream",
     "text": [
      "longitude 0\n",
      "latitude 0\n",
      "housing_median_age 0\n",
      "total_rooms 0\n",
      "total_bedrooms 0\n",
      "population 0\n",
      "households 0\n",
      "median_income 0\n",
      "median_house_value 0\n",
      "ocean_proximity 0\n"
     ]
    }
   ],
   "source": [
    "# проверим результат\n",
    "for column in columns:\n",
    "    check_col = F.isnull(F.col(column))\n",
    "    print(column, housing.filter(check_col).count())"
   ]
  },
  {
   "cell_type": "markdown",
   "id": "192f348e",
   "metadata": {},
   "source": [
    "**Вывод:**\n",
    "- Дубликатов в данных не обнаружено;\n",
    "- В столбце `total_bedrooms` обнаружены пропуски и заполнены медианным значением."
   ]
  },
  {
   "cell_type": "markdown",
   "id": "737089bc",
   "metadata": {},
   "source": [
    "## Исследовательский анализ данных"
   ]
  },
  {
   "cell_type": "code",
   "execution_count": 14,
   "id": "0fcbda95",
   "metadata": {},
   "outputs": [
    {
     "data": {
      "image/png": "[encoded data removed]",
      "text/plain": [
       "<Figure size 1440x864 with 9 Axes>"
      ]
     },
     "metadata": {
      "needs_background": "light"
     },
     "output_type": "display_data"
    }
   ],
   "source": [
    "# посмотрим распределение количественных признаков\n",
    "housing.sample(0.5).toPandas().hist(figsize=(20, 12));"
   ]
  },
  {
   "cell_type": "code",
   "execution_count": 15,
   "id": "ac023ae4",
   "metadata": {},
   "outputs": [
    {
     "data": {
      "image/png": "[encoded data removed]",
      "text/plain": [
       "<Figure size 720x432 with 2 Axes>"
      ]
     },
     "metadata": {
      "needs_background": "light"
     },
     "output_type": "display_data"
    }
   ],
   "source": [
    "# посмотрим на корреляцию признаков\n",
    "sns.heatmap(housing.sample(0.5).toPandas().drop(columns=['ocean_proximity']).corr(), annot=True);"
   ]
  },
  {
   "cell_type": "markdown",
   "id": "912b27f6",
   "metadata": {},
   "source": [
    "Признаки `total_rooms` и `total_bedrooms` сильно коррелируют, также признак `total_bedrooms` не оказывает влияния на целевой, и имеет пропуски. Можем избавиться от этого признака без вреда для результата."
   ]
  },
  {
   "cell_type": "code",
   "execution_count": 16,
   "id": "735ad3a7",
   "metadata": {},
   "outputs": [],
   "source": [
    "housing = housing.drop('total_bedrooms')"
   ]
  },
  {
   "cell_type": "code",
   "execution_count": 17,
   "id": "c85e6a4c",
   "metadata": {},
   "outputs": [
    {
     "data": {
      "image/png": "[encoded data removed]",
      "text/plain": [
       "<Figure size 720x432 with 1 Axes>"
      ]
     },
     "metadata": {
      "needs_background": "light"
     },
     "output_type": "display_data"
    },
    {
     "data": {
      "image/png": "[encoded data removed]",
      "text/plain": [
       "<Figure size 720x432 with 1 Axes>"
      ]
     },
     "metadata": {
      "needs_background": "light"
     },
     "output_type": "display_data"
    },
    {
     "data": {
      "image/png": "[encoded data removed]",
      "text/plain": [
       "<Figure size 720x432 with 1 Axes>"
      ]
     },
     "metadata": {
      "needs_background": "light"
     },
     "output_type": "display_data"
    },
    {
     "data": {
      "image/png": "[encoded data removed]",
      "text/plain": [
       "<Figure size 720x432 with 1 Axes>"
      ]
     },
     "metadata": {
      "needs_background": "light"
     },
     "output_type": "display_data"
    },
    {
     "data": {
      "image/png": "[encoded data removed]",
      "text/plain": [
       "<Figure size 720x432 with 1 Axes>"
      ]
     },
     "metadata": {
      "needs_background": "light"
     },
     "output_type": "display_data"
    },
    {
     "data": {
      "image/png": "[encoded data removed]",
      "text/plain": [
       "<Figure size 720x432 with 1 Axes>"
      ]
     },
     "metadata": {
      "needs_background": "light"
     },
     "output_type": "display_data"
    },
    {
     "data": {
      "image/png": "[encoded data removed]",
      "text/plain": [
       "<Figure size 720x432 with 1 Axes>"
      ]
     },
     "metadata": {
      "needs_background": "light"
     },
     "output_type": "display_data"
    },
    {
     "data": {
      "image/png": "[encoded data removed]",
      "text/plain": [
       "<Figure size 720x432 with 1 Axes>"
      ]
     },
     "metadata": {
      "needs_background": "light"
     },
     "output_type": "display_data"
    }
   ],
   "source": [
    "# строим ящики с усами для каждого числового признака\n",
    "for column in housing.drop('ocean_proximity').sample(0.5).columns:\n",
    "    sns.boxplot(x=housing.sample(0.5).toPandas()[column])\n",
    "    plt.show()"
   ]
  },
  {
   "cell_type": "markdown",
   "id": "d08d6d65",
   "metadata": {},
   "source": [
    "В столбцах `total_rooms`, `population`, `households`, `median_income` есть выбросы. Изучим их подробнее.\\\n",
    "Чтобы посмотреть, какой процент от исходного количества данных мы удалили, заведём константную переменную с количеством записей в исходном датасете."
   ]
  },
  {
   "cell_type": "code",
   "execution_count": 18,
   "id": "3e78342b",
   "metadata": {},
   "outputs": [],
   "source": [
    "COUNT = 20640"
   ]
  },
  {
   "cell_type": "markdown",
   "id": "fd134d2a",
   "metadata": {},
   "source": [
    "**`total_rooms`**"
   ]
  },
  {
   "cell_type": "code",
   "execution_count": 19,
   "id": "b6683d38",
   "metadata": {},
   "outputs": [
    {
     "data": {
      "text/html": [
       "<div>\n",
       "<style scoped>\n",
       "    .dataframe tbody tr th:only-of-type {\n",
       "        vertical-align: middle;\n",
       "    }\n",
       "\n",
       "    .dataframe tbody tr th {\n",
       "        vertical-align: top;\n",
       "    }\n",
       "\n",
       "    .dataframe thead th {\n",
       "        text-align: right;\n",
       "    }\n",
       "</style>\n",
       "<table border=\"1\" class=\"dataframe\">\n",
       "  <thead>\n",
       "    <tr style=\"text-align: right;\">\n",
       "      <th></th>\n",
       "      <th>summary</th>\n",
       "      <th>total_rooms</th>\n",
       "    </tr>\n",
       "  </thead>\n",
       "  <tbody>\n",
       "    <tr>\n",
       "      <th>0</th>\n",
       "      <td>count</td>\n",
       "      <td>20640</td>\n",
       "    </tr>\n",
       "    <tr>\n",
       "      <th>1</th>\n",
       "      <td>mean</td>\n",
       "      <td>2635.7630813953488</td>\n",
       "    </tr>\n",
       "    <tr>\n",
       "      <th>2</th>\n",
       "      <td>stddev</td>\n",
       "      <td>2181.6152515827944</td>\n",
       "    </tr>\n",
       "    <tr>\n",
       "      <th>3</th>\n",
       "      <td>min</td>\n",
       "      <td>2.0</td>\n",
       "    </tr>\n",
       "    <tr>\n",
       "      <th>4</th>\n",
       "      <td>max</td>\n",
       "      <td>39320.0</td>\n",
       "    </tr>\n",
       "  </tbody>\n",
       "</table>\n",
       "</div>"
      ],
      "text/plain": [
       "  summary         total_rooms\n",
       "0   count               20640\n",
       "1    mean  2635.7630813953488\n",
       "2  stddev  2181.6152515827944\n",
       "3     min                 2.0\n",
       "4     max             39320.0"
      ]
     },
     "execution_count": 19,
     "metadata": {},
     "output_type": "execute_result"
    }
   ],
   "source": [
    "# описание столбца\n",
    "housing.select('total_rooms').describe().toPandas()"
   ]
  },
  {
   "cell_type": "markdown",
   "id": "2d3ac7f4",
   "metadata": {},
   "source": [
    "На графике ящика с усами мы видим, что в нижней границе нет выбросов, они находятся располагаются в верхней границе данных. Такое большое количество выбросов может помешать модели выявить тенденцию, поэтому проведём границу на отметке .99 квантиля, а остальные выбросы удалим."
   ]
  },
  {
   "cell_type": "code",
   "execution_count": 20,
   "id": "ef33d1a8",
   "metadata": {},
   "outputs": [
    {
     "data": {
      "text/plain": [
       "11232.0"
      ]
     },
     "execution_count": 20,
     "metadata": {},
     "output_type": "execute_result"
    }
   ],
   "source": [
    "# найдём значение .99 квантиля\n",
    "TOTAL_ROOMS_99 = housing.approxQuantile(\"total_rooms\", [0.99], 0)[0]\n",
    "TOTAL_ROOMS_99"
   ]
  },
  {
   "cell_type": "code",
   "execution_count": 21,
   "id": "dae79198",
   "metadata": {},
   "outputs": [
    {
     "data": {
      "text/plain": [
       "0.9980620155038761"
      ]
     },
     "execution_count": 21,
     "metadata": {},
     "output_type": "execute_result"
    }
   ],
   "source": [
    "# посчитаем процент выбросов, которые собираемся удалить\n",
    "TOTAL_ROOMS_DELETED = housing.filter(housing.total_rooms > TOTAL_ROOMS_99).count() / COUNT * 100\n",
    "TOTAL_ROOMS_DELETED"
   ]
  },
  {
   "cell_type": "code",
   "execution_count": 22,
   "id": "277694ec",
   "metadata": {},
   "outputs": [],
   "source": [
    "# удаляем выбросы\n",
    "housing = housing.filter(housing.total_rooms <= TOTAL_ROOMS_99)"
   ]
  },
  {
   "cell_type": "markdown",
   "id": "b4d12b35",
   "metadata": {},
   "source": [
    "**`population`**"
   ]
  },
  {
   "cell_type": "code",
   "execution_count": 23,
   "id": "4febde1f",
   "metadata": {},
   "outputs": [
    {
     "data": {
      "text/html": [
       "<div>\n",
       "<style scoped>\n",
       "    .dataframe tbody tr th:only-of-type {\n",
       "        vertical-align: middle;\n",
       "    }\n",
       "\n",
       "    .dataframe tbody tr th {\n",
       "        vertical-align: top;\n",
       "    }\n",
       "\n",
       "    .dataframe thead th {\n",
       "        text-align: right;\n",
       "    }\n",
       "</style>\n",
       "<table border=\"1\" class=\"dataframe\">\n",
       "  <thead>\n",
       "    <tr style=\"text-align: right;\">\n",
       "      <th></th>\n",
       "      <th>summary</th>\n",
       "      <th>population</th>\n",
       "    </tr>\n",
       "  </thead>\n",
       "  <tbody>\n",
       "    <tr>\n",
       "      <th>0</th>\n",
       "      <td>count</td>\n",
       "      <td>20434</td>\n",
       "    </tr>\n",
       "    <tr>\n",
       "      <th>1</th>\n",
       "      <td>mean</td>\n",
       "      <td>1366.503817167466</td>\n",
       "    </tr>\n",
       "    <tr>\n",
       "      <th>2</th>\n",
       "      <td>stddev</td>\n",
       "      <td>907.725659039993</td>\n",
       "    </tr>\n",
       "    <tr>\n",
       "      <th>3</th>\n",
       "      <td>min</td>\n",
       "      <td>3.0</td>\n",
       "    </tr>\n",
       "    <tr>\n",
       "      <th>4</th>\n",
       "      <td>max</td>\n",
       "      <td>11272.0</td>\n",
       "    </tr>\n",
       "  </tbody>\n",
       "</table>\n",
       "</div>"
      ],
      "text/plain": [
       "  summary         population\n",
       "0   count              20434\n",
       "1    mean  1366.503817167466\n",
       "2  stddev   907.725659039993\n",
       "3     min                3.0\n",
       "4     max            11272.0"
      ]
     },
     "execution_count": 23,
     "metadata": {},
     "output_type": "execute_result"
    }
   ],
   "source": [
    "# описание столбца\n",
    "housing.select('population').describe().toPandas()"
   ]
  },
  {
   "cell_type": "markdown",
   "id": "99b22509",
   "metadata": {},
   "source": [
    "Так жк проведём границу на отметке .99 квантиля, а остальные выбросы удалим."
   ]
  },
  {
   "cell_type": "code",
   "execution_count": 24,
   "id": "35e80dad",
   "metadata": {},
   "outputs": [
    {
     "data": {
      "text/plain": [
       "4684.0"
      ]
     },
     "execution_count": 24,
     "metadata": {},
     "output_type": "execute_result"
    }
   ],
   "source": [
    "POPULATION_99 = housing.approxQuantile(\"population\", [0.99], 0)[0]\n",
    "POPULATION_99"
   ]
  },
  {
   "cell_type": "code",
   "execution_count": 25,
   "id": "980d052a",
   "metadata": {},
   "outputs": [
    {
     "data": {
      "text/plain": [
       "0.9883720930232558"
      ]
     },
     "execution_count": 25,
     "metadata": {},
     "output_type": "execute_result"
    }
   ],
   "source": [
    "POPULATION_DELETED = housing.filter(housing.population > POPULATION_99).count() / COUNT * 100\n",
    "POPULATION_DELETED"
   ]
  },
  {
   "cell_type": "code",
   "execution_count": 26,
   "id": "58d01a4e",
   "metadata": {},
   "outputs": [],
   "source": [
    "housing = housing.filter(housing.population <= POPULATION_99) "
   ]
  },
  {
   "cell_type": "markdown",
   "id": "c556a6a5",
   "metadata": {},
   "source": [
    "**`households`**"
   ]
  },
  {
   "cell_type": "code",
   "execution_count": 27,
   "id": "9885b343",
   "metadata": {},
   "outputs": [
    {
     "data": {
      "text/html": [
       "<div>\n",
       "<style scoped>\n",
       "    .dataframe tbody tr th:only-of-type {\n",
       "        vertical-align: middle;\n",
       "    }\n",
       "\n",
       "    .dataframe tbody tr th {\n",
       "        vertical-align: top;\n",
       "    }\n",
       "\n",
       "    .dataframe thead th {\n",
       "        text-align: right;\n",
       "    }\n",
       "</style>\n",
       "<table border=\"1\" class=\"dataframe\">\n",
       "  <thead>\n",
       "    <tr style=\"text-align: right;\">\n",
       "      <th></th>\n",
       "      <th>summary</th>\n",
       "      <th>households</th>\n",
       "    </tr>\n",
       "  </thead>\n",
       "  <tbody>\n",
       "    <tr>\n",
       "      <th>0</th>\n",
       "      <td>count</td>\n",
       "      <td>20230</td>\n",
       "    </tr>\n",
       "    <tr>\n",
       "      <th>1</th>\n",
       "      <td>mean</td>\n",
       "      <td>467.4309441423628</td>\n",
       "    </tr>\n",
       "    <tr>\n",
       "      <th>2</th>\n",
       "      <td>stddev</td>\n",
       "      <td>286.89635543455046</td>\n",
       "    </tr>\n",
       "    <tr>\n",
       "      <th>3</th>\n",
       "      <td>min</td>\n",
       "      <td>1.0</td>\n",
       "    </tr>\n",
       "    <tr>\n",
       "      <th>4</th>\n",
       "      <td>max</td>\n",
       "      <td>2565.0</td>\n",
       "    </tr>\n",
       "  </tbody>\n",
       "</table>\n",
       "</div>"
      ],
      "text/plain": [
       "  summary          households\n",
       "0   count               20230\n",
       "1    mean   467.4309441423628\n",
       "2  stddev  286.89635543455046\n",
       "3     min                 1.0\n",
       "4     max              2565.0"
      ]
     },
     "execution_count": 27,
     "metadata": {},
     "output_type": "execute_result"
    }
   ],
   "source": [
    "housing.select('households').describe().toPandas()"
   ]
  },
  {
   "cell_type": "code",
   "execution_count": 28,
   "id": "0d705e80",
   "metadata": {},
   "outputs": [
    {
     "data": {
      "text/plain": [
       "1474.0"
      ]
     },
     "execution_count": 28,
     "metadata": {},
     "output_type": "execute_result"
    }
   ],
   "source": [
    "HOUSEHOLDS_99 = housing.approxQuantile(\"households\", [0.99], 0)[0]\n",
    "HOUSEHOLDS_99"
   ]
  },
  {
   "cell_type": "code",
   "execution_count": 29,
   "id": "71563e68",
   "metadata": {},
   "outputs": [
    {
     "data": {
      "text/plain": [
       "0.9738372093023256"
      ]
     },
     "execution_count": 29,
     "metadata": {},
     "output_type": "execute_result"
    }
   ],
   "source": [
    "HOUSEHOLDS_DELETED = housing.filter(housing.households > HOUSEHOLDS_99).count() / COUNT * 100\n",
    "HOUSEHOLDS_DELETED"
   ]
  },
  {
   "cell_type": "code",
   "execution_count": 30,
   "id": "f10afa1e",
   "metadata": {},
   "outputs": [],
   "source": [
    "housing = housing.filter(housing.households <= HOUSEHOLDS_99) "
   ]
  },
  {
   "cell_type": "markdown",
   "id": "bc8a991a",
   "metadata": {},
   "source": [
    "**`median_income`**"
   ]
  },
  {
   "cell_type": "code",
   "execution_count": 31,
   "id": "0f5633d7",
   "metadata": {},
   "outputs": [
    {
     "data": {
      "text/html": [
       "<div>\n",
       "<style scoped>\n",
       "    .dataframe tbody tr th:only-of-type {\n",
       "        vertical-align: middle;\n",
       "    }\n",
       "\n",
       "    .dataframe tbody tr th {\n",
       "        vertical-align: top;\n",
       "    }\n",
       "\n",
       "    .dataframe thead th {\n",
       "        text-align: right;\n",
       "    }\n",
       "</style>\n",
       "<table border=\"1\" class=\"dataframe\">\n",
       "  <thead>\n",
       "    <tr style=\"text-align: right;\">\n",
       "      <th></th>\n",
       "      <th>summary</th>\n",
       "      <th>median_income</th>\n",
       "    </tr>\n",
       "  </thead>\n",
       "  <tbody>\n",
       "    <tr>\n",
       "      <th>0</th>\n",
       "      <td>count</td>\n",
       "      <td>20029</td>\n",
       "    </tr>\n",
       "    <tr>\n",
       "      <th>1</th>\n",
       "      <td>mean</td>\n",
       "      <td>3.863432867342394</td>\n",
       "    </tr>\n",
       "    <tr>\n",
       "      <th>2</th>\n",
       "      <td>stddev</td>\n",
       "      <td>1.9065573932749351</td>\n",
       "    </tr>\n",
       "    <tr>\n",
       "      <th>3</th>\n",
       "      <td>min</td>\n",
       "      <td>0.4999</td>\n",
       "    </tr>\n",
       "    <tr>\n",
       "      <th>4</th>\n",
       "      <td>max</td>\n",
       "      <td>15.0001</td>\n",
       "    </tr>\n",
       "  </tbody>\n",
       "</table>\n",
       "</div>"
      ],
      "text/plain": [
       "  summary       median_income\n",
       "0   count               20029\n",
       "1    mean   3.863432867342394\n",
       "2  stddev  1.9065573932749351\n",
       "3     min              0.4999\n",
       "4     max             15.0001"
      ]
     },
     "execution_count": 31,
     "metadata": {},
     "output_type": "execute_result"
    }
   ],
   "source": [
    "housing.select('median_income').describe().toPandas()"
   ]
  },
  {
   "cell_type": "code",
   "execution_count": 32,
   "id": "d6ed22b4",
   "metadata": {},
   "outputs": [
    {
     "data": {
      "text/plain": [
       "10.6514"
      ]
     },
     "execution_count": 32,
     "metadata": {},
     "output_type": "execute_result"
    }
   ],
   "source": [
    "MEDIAN_INCOME_99 = housing.approxQuantile(\"median_income\", [0.99], 0)[0]\n",
    "MEDIAN_INCOME_99"
   ]
  },
  {
   "cell_type": "code",
   "execution_count": 33,
   "id": "0bfac735",
   "metadata": {},
   "outputs": [
    {
     "data": {
      "text/plain": [
       "0.9689922480620154"
      ]
     },
     "execution_count": 33,
     "metadata": {},
     "output_type": "execute_result"
    }
   ],
   "source": [
    "MEDIAN_INCOME_DELETED = housing.filter(housing.median_income > MEDIAN_INCOME_99).count() / COUNT * 100\n",
    "MEDIAN_INCOME_DELETED"
   ]
  },
  {
   "cell_type": "code",
   "execution_count": 34,
   "id": "a56cc84d",
   "metadata": {},
   "outputs": [],
   "source": [
    "housing = housing.filter(housing.median_income <= MEDIAN_INCOME_99) "
   ]
  },
  {
   "cell_type": "code",
   "execution_count": 35,
   "id": "21569e33",
   "metadata": {},
   "outputs": [
    {
     "data": {
      "text/plain": [
       "3.929263565891473"
      ]
     },
     "execution_count": 35,
     "metadata": {},
     "output_type": "execute_result"
    }
   ],
   "source": [
    "DELETED = TOTAL_ROOMS_DELETED + POPULATION_DELETED + HOUSEHOLDS_DELETED + MEDIAN_INCOME_DELETED\n",
    "DELETED"
   ]
  },
  {
   "cell_type": "markdown",
   "id": "563304b4",
   "metadata": {},
   "source": [
    "Удаленных записей не так много, около 4%"
   ]
  },
  {
   "cell_type": "markdown",
   "id": "d5011d68",
   "metadata": {},
   "source": [
    "**Вывод:**\n",
    "- Удален признак `total_bedrooms`, который почти не влияет на целевой, но коррелирует с признаком `total_rooms`\n",
    "- Удалены почти 4% выбросов из колонок `total_rooms`, `households`, `median_income` и `population`"
   ]
  },
  {
   "cell_type": "markdown",
   "id": "9f0a82f3",
   "metadata": {
    "id": "9f0a82f3"
   },
   "source": [
    "## Обучение моделей"
   ]
  },
  {
   "cell_type": "code",
   "execution_count": 36,
   "id": "3c67e6e1",
   "metadata": {},
   "outputs": [
    {
     "name": "stdout",
     "output_type": "stream",
     "text": [
      "15770 4059\n"
     ]
    }
   ],
   "source": [
    "# разобьём данные на обучающую и тестовую выборки\n",
    "\n",
    "train, test = housing.randomSplit([.8,.2], seed=RANDOM_SEED)\n",
    "print(train.count(), test.count())"
   ]
  },
  {
   "cell_type": "code",
   "execution_count": 37,
   "id": "e46fa7c2",
   "metadata": {},
   "outputs": [],
   "source": [
    "# разделим признаки на категориальные, числовые и целевой\n",
    "\n",
    "categorical_cols = [\"ocean_proximity\"]\n",
    "numerical_cols  = [\"longitude\", \"latitude\", \"housing_median_age\", \"total_rooms\", \"population\", \"households\", \"median_income\"]\n",
    "target = \"median_house_value\""
   ]
  },
  {
   "cell_type": "markdown",
   "id": "c5d9fa81",
   "metadata": {},
   "source": [
    "Сначала трансформируем категориальный признак `ocean_proximity` с помощью трансформера StringIndexer."
   ]
  },
  {
   "cell_type": "code",
   "execution_count": 38,
   "id": "84d5d4db",
   "metadata": {},
   "outputs": [],
   "source": [
    "indexer = StringIndexer(inputCols=categorical_cols, \n",
    "                        outputCols=[c+'_idx' for c in categorical_cols])"
   ]
  },
  {
   "cell_type": "markdown",
   "id": "cd40548b",
   "metadata": {},
   "source": [
    "После этого закодируем его с помощью OneHotEncoding"
   ]
  },
  {
   "cell_type": "code",
   "execution_count": 39,
   "id": "17f7da3b",
   "metadata": {},
   "outputs": [],
   "source": [
    "encoder = OneHotEncoder(inputCols=['ocean_proximity_idx'],\n",
    "                        outputCols=['ocean_proximity_ohe'])"
   ]
  },
  {
   "cell_type": "markdown",
   "id": "b5c34760",
   "metadata": {},
   "source": [
    "Приведём числовые признаки к одному масштабу"
   ]
  },
  {
   "cell_type": "code",
   "execution_count": 40,
   "id": "5b7bd3fa",
   "metadata": {},
   "outputs": [],
   "source": [
    "numerical_assembler = VectorAssembler(inputCols=numerical_cols,\n",
    "                                    outputCol=\"numerical_features\")"
   ]
  },
  {
   "cell_type": "code",
   "execution_count": 41,
   "id": "de3838f1",
   "metadata": {},
   "outputs": [],
   "source": [
    "standardScaler = StandardScaler(inputCol='numerical_features',\n",
    "                                outputCol=\"numerical_features_scaled\")"
   ]
  },
  {
   "cell_type": "markdown",
   "id": "d3cfe4af",
   "metadata": {},
   "source": [
    "Объединеним признаки в один вектор"
   ]
  },
  {
   "cell_type": "code",
   "execution_count": 42,
   "id": "0fb249d5",
   "metadata": {},
   "outputs": [],
   "source": [
    "all_features = ['ocean_proximity_ohe','numerical_features_scaled']\n",
    "\n",
    "final_assembler = VectorAssembler(inputCols=all_features, \n",
    "                                  outputCol=\"features\") "
   ]
  },
  {
   "cell_type": "markdown",
   "id": "558f6cea",
   "metadata": {},
   "source": [
    "Создадим функцию для обучения моделей"
   ]
  },
  {
   "cell_type": "code",
   "execution_count": 43,
   "id": "357cdbf5",
   "metadata": {},
   "outputs": [],
   "source": [
    "# создаём функцию для обучения модели\n",
    "def train_func(features):\n",
    "    \n",
    "    # создаём объект модели линейной регрессии\n",
    "    lr = LinearRegression(labelCol=target, featuresCol=features)\n",
    "    \n",
    "    # строим сетку для подбора гиперпараметров\n",
    "    grid_search = ParamGridBuilder() \\\n",
    "        .addGrid(lr.regParam, [0.0, 0.01, 0.1]) \\\n",
    "        .addGrid(lr.elasticNetParam, [0.5, 1.0]) \\\n",
    "        .build()\n",
    "    \n",
    "    # создаём объект для оценки качества модели метрикой RMSE\n",
    "    evaluator = RegressionEvaluator(predictionCol='prediction',\n",
    "                                    labelCol=target)\n",
    "    \n",
    "    # строим итоговый пайплайн для обучения модели\n",
    "    pipeline = Pipeline(\n",
    "        stages = [indexer, \n",
    "                  encoder, \n",
    "                  numerical_assembler, \n",
    "                  standardScaler, \n",
    "                  final_assembler,\n",
    "                  lr]\n",
    "    )\n",
    "    \n",
    "    # создаём кросс-валидатор\n",
    "    cv = CrossValidator(estimator=pipeline,\n",
    "                        estimatorParamMaps=grid_search,\n",
    "                        evaluator=evaluator,\n",
    "                        numFolds = 5)\n",
    "    \n",
    "    # обучаем кросс-валидатор на обучающей выборке\n",
    "    cv_model = cv.fit(train)\n",
    "    \n",
    "    # получаем лучшую модель\n",
    "    best_model = cv_model.bestModel\n",
    "    \n",
    "    # получаем параметры лучшей модели\n",
    "    params = best_model.stages[5].extractParamMap()\n",
    "    \n",
    "    # получаем предсказания на тестовой выборке\n",
    "    predictions = best_model.transform(test)\n",
    "    \n",
    "    return params, predictions"
   ]
  },
  {
   "cell_type": "code",
   "execution_count": 44,
   "id": "26d734e8",
   "metadata": {},
   "outputs": [
    {
     "name": "stderr",
     "output_type": "stream",
     "text": [
      "                                                                                \r"
     ]
    }
   ],
   "source": [
    "# обучаем модель на полном наборе данных\n",
    "full_params, full_pred = train_func('features')"
   ]
  },
  {
   "cell_type": "code",
   "execution_count": 45,
   "id": "fbfe7356",
   "metadata": {},
   "outputs": [
    {
     "data": {
      "text/html": [
       "<div>\n",
       "<style scoped>\n",
       "    .dataframe tbody tr th:only-of-type {\n",
       "        vertical-align: middle;\n",
       "    }\n",
       "\n",
       "    .dataframe tbody tr th {\n",
       "        vertical-align: top;\n",
       "    }\n",
       "\n",
       "    .dataframe thead th {\n",
       "        text-align: right;\n",
       "    }\n",
       "</style>\n",
       "<table border=\"1\" class=\"dataframe\">\n",
       "  <thead>\n",
       "    <tr style=\"text-align: right;\">\n",
       "      <th></th>\n",
       "      <th>median_house_value</th>\n",
       "      <th>prediction</th>\n",
       "    </tr>\n",
       "  </thead>\n",
       "  <tbody>\n",
       "    <tr>\n",
       "      <th>0</th>\n",
       "      <td>103600.0</td>\n",
       "      <td>147082.011005</td>\n",
       "    </tr>\n",
       "    <tr>\n",
       "      <th>1</th>\n",
       "      <td>58100.0</td>\n",
       "      <td>135187.448444</td>\n",
       "    </tr>\n",
       "    <tr>\n",
       "      <th>2</th>\n",
       "      <td>68400.0</td>\n",
       "      <td>122235.564448</td>\n",
       "    </tr>\n",
       "    <tr>\n",
       "      <th>3</th>\n",
       "      <td>81300.0</td>\n",
       "      <td>148460.392448</td>\n",
       "    </tr>\n",
       "    <tr>\n",
       "      <th>4</th>\n",
       "      <td>60000.0</td>\n",
       "      <td>138340.645039</td>\n",
       "    </tr>\n",
       "    <tr>\n",
       "      <th>5</th>\n",
       "      <td>74100.0</td>\n",
       "      <td>147878.816700</td>\n",
       "    </tr>\n",
       "    <tr>\n",
       "      <th>6</th>\n",
       "      <td>92500.0</td>\n",
       "      <td>168593.206176</td>\n",
       "    </tr>\n",
       "    <tr>\n",
       "      <th>7</th>\n",
       "      <td>128100.0</td>\n",
       "      <td>223926.310194</td>\n",
       "    </tr>\n",
       "    <tr>\n",
       "      <th>8</th>\n",
       "      <td>99600.0</td>\n",
       "      <td>188585.664153</td>\n",
       "    </tr>\n",
       "    <tr>\n",
       "      <th>9</th>\n",
       "      <td>81000.0</td>\n",
       "      <td>160622.283406</td>\n",
       "    </tr>\n",
       "  </tbody>\n",
       "</table>\n",
       "</div>"
      ],
      "text/plain": [
       "   median_house_value     prediction\n",
       "0            103600.0  147082.011005\n",
       "1             58100.0  135187.448444\n",
       "2             68400.0  122235.564448\n",
       "3             81300.0  148460.392448\n",
       "4             60000.0  138340.645039\n",
       "5             74100.0  147878.816700\n",
       "6             92500.0  168593.206176\n",
       "7            128100.0  223926.310194\n",
       "8             99600.0  188585.664153\n",
       "9             81000.0  160622.283406"
      ]
     },
     "execution_count": 45,
     "metadata": {},
     "output_type": "execute_result"
    }
   ],
   "source": [
    "full_pred.select('median_house_value', 'prediction').sample(0.5).toPandas().head(10)"
   ]
  },
  {
   "cell_type": "code",
   "execution_count": 46,
   "id": "6f4ce282",
   "metadata": {},
   "outputs": [
    {
     "name": "stdout",
     "output_type": "stream",
     "text": [
      "RMSE на полном наборе данных: 67743.10668969016\n",
      "R2 на полном наборе данных: 0.643058091392138\n",
      "MAE на полном наборе данных: 48929.61618482056\n"
     ]
    }
   ],
   "source": [
    "# посчитаем метрики\n",
    "\n",
    "print(\"RMSE на полном наборе данных:\", \n",
    "      RegressionEvaluator(labelCol='median_house_value', metricName='rmse').evaluate(full_pred))\n",
    "print(\"R2 на полном наборе данных:\", \n",
    "      RegressionEvaluator(labelCol='median_house_value', metricName='r2').evaluate(full_pred))\n",
    "print(\"MAE на полном наборе данных:\", \n",
    "      RegressionEvaluator(labelCol='median_house_value', metricName='mae').evaluate(full_pred))"
   ]
  },
  {
   "cell_type": "markdown",
   "id": "b8f37c3e",
   "metadata": {},
   "source": [
    "В некоторых случаях модель предсказала отрицательный результат. Посмотрим, сколько таких значений получилось."
   ]
  },
  {
   "cell_type": "code",
   "execution_count": 47,
   "id": "ba0cbabd",
   "metadata": {},
   "outputs": [
    {
     "data": {
      "text/plain": [
       "12"
      ]
     },
     "execution_count": 47,
     "metadata": {},
     "output_type": "execute_result"
    }
   ],
   "source": [
    "full_pred.filter(F.col('prediction') < 0).count()"
   ]
  },
  {
   "cell_type": "code",
   "execution_count": 48,
   "id": "e6ee3ac3",
   "metadata": {},
   "outputs": [
    {
     "data": {
      "text/html": [
       "<div>\n",
       "<style scoped>\n",
       "    .dataframe tbody tr th:only-of-type {\n",
       "        vertical-align: middle;\n",
       "    }\n",
       "\n",
       "    .dataframe tbody tr th {\n",
       "        vertical-align: top;\n",
       "    }\n",
       "\n",
       "    .dataframe thead th {\n",
       "        text-align: right;\n",
       "    }\n",
       "</style>\n",
       "<table border=\"1\" class=\"dataframe\">\n",
       "  <thead>\n",
       "    <tr style=\"text-align: right;\">\n",
       "      <th></th>\n",
       "      <th>longitude</th>\n",
       "      <th>latitude</th>\n",
       "      <th>housing_median_age</th>\n",
       "      <th>total_rooms</th>\n",
       "      <th>population</th>\n",
       "      <th>households</th>\n",
       "      <th>median_income</th>\n",
       "      <th>median_house_value</th>\n",
       "      <th>ocean_proximity</th>\n",
       "      <th>ocean_proximity_idx</th>\n",
       "      <th>ocean_proximity_ohe</th>\n",
       "      <th>numerical_features</th>\n",
       "      <th>numerical_features_scaled</th>\n",
       "      <th>features</th>\n",
       "      <th>prediction</th>\n",
       "    </tr>\n",
       "  </thead>\n",
       "  <tbody>\n",
       "    <tr>\n",
       "      <th>0</th>\n",
       "      <td>-124.15</td>\n",
       "      <td>41.81</td>\n",
       "      <td>17.0</td>\n",
       "      <td>3276.0</td>\n",
       "      <td>3546.0</td>\n",
       "      <td>585.0</td>\n",
       "      <td>2.2868</td>\n",
       "      <td>103100.0</td>\n",
       "      <td>NEAR OCEAN</td>\n",
       "      <td>2.0</td>\n",
       "      <td>(0.0, 0.0, 1.0, 0.0)</td>\n",
       "      <td>[-124.15, 41.81, 17.0, 3276.0, 3546.0, 585.0, ...</td>\n",
       "      <td>[-61.79738142534058, 19.48199010055772, 1.3652...</td>\n",
       "      <td>[0.0, 0.0, 1.0, 0.0, -61.79738142534058, 19.48...</td>\n",
       "      <td>-9320.579842</td>\n",
       "    </tr>\n",
       "    <tr>\n",
       "      <th>1</th>\n",
       "      <td>-121.79</td>\n",
       "      <td>38.54</td>\n",
       "      <td>7.0</td>\n",
       "      <td>1777.0</td>\n",
       "      <td>4479.0</td>\n",
       "      <td>504.0</td>\n",
       "      <td>1.4653</td>\n",
       "      <td>310000.0</td>\n",
       "      <td>INLAND</td>\n",
       "      <td>1.0</td>\n",
       "      <td>(0.0, 1.0, 0.0, 0.0)</td>\n",
       "      <td>[-121.79, 38.54, 7.0, 1777.0, 4479.0, 504.0, 1...</td>\n",
       "      <td>[-60.622658749836724, 17.95828506279585, 0.562...</td>\n",
       "      <td>[0.0, 1.0, 0.0, 0.0, -60.622658749836724, 17.9...</td>\n",
       "      <td>-148822.837160</td>\n",
       "    </tr>\n",
       "    <tr>\n",
       "      <th>2</th>\n",
       "      <td>-120.51</td>\n",
       "      <td>40.41</td>\n",
       "      <td>36.0</td>\n",
       "      <td>36.0</td>\n",
       "      <td>4198.0</td>\n",
       "      <td>7.0</td>\n",
       "      <td>5.5179</td>\n",
       "      <td>67500.0</td>\n",
       "      <td>INLAND</td>\n",
       "      <td>1.0</td>\n",
       "      <td>(0.0, 1.0, 0.0, 0.0)</td>\n",
       "      <td>[-120.51, 40.41, 36.0, 36.0, 4198.0, 7.0, 5.5179]</td>\n",
       "      <td>[-59.98552102752954, 18.82963931986456, 2.8911...</td>\n",
       "      <td>[0.0, 1.0, 0.0, 0.0, -59.98552102752954, 18.82...</td>\n",
       "      <td>-114008.063171</td>\n",
       "    </tr>\n",
       "    <tr>\n",
       "      <th>3</th>\n",
       "      <td>-120.09</td>\n",
       "      <td>39.92</td>\n",
       "      <td>19.0</td>\n",
       "      <td>2335.0</td>\n",
       "      <td>1028.0</td>\n",
       "      <td>383.0</td>\n",
       "      <td>1.7267</td>\n",
       "      <td>60700.0</td>\n",
       "      <td>INLAND</td>\n",
       "      <td>1.0</td>\n",
       "      <td>(0.0, 1.0, 0.0, 0.0)</td>\n",
       "      <td>[-120.09, 39.92, 19.0, 2335.0, 1028.0, 383.0, ...</td>\n",
       "      <td>[-59.7764602123975, 18.601316546621963, 1.5258...</td>\n",
       "      <td>[0.0, 1.0, 0.0, 0.0, -59.7764602123975, 18.601...</td>\n",
       "      <td>-4405.362463</td>\n",
       "    </tr>\n",
       "    <tr>\n",
       "      <th>4</th>\n",
       "      <td>-120.08</td>\n",
       "      <td>41.79</td>\n",
       "      <td>34.0</td>\n",
       "      <td>1355.0</td>\n",
       "      <td>434.0</td>\n",
       "      <td>178.0</td>\n",
       "      <td>2.0903</td>\n",
       "      <td>56100.0</td>\n",
       "      <td>INLAND</td>\n",
       "      <td>1.0</td>\n",
       "      <td>(0.0, 1.0, 0.0, 0.0)</td>\n",
       "      <td>[-120.08, 41.79, 34.0, 1355.0, 434.0, 178.0, 2...</td>\n",
       "      <td>[-59.771482573941974, 19.472670803690676, 2.73...</td>\n",
       "      <td>[0.0, 1.0, 0.0, 0.0, -59.771482573941974, 19.4...</td>\n",
       "      <td>-21247.792849</td>\n",
       "    </tr>\n",
       "    <tr>\n",
       "      <th>5</th>\n",
       "      <td>-120.06</td>\n",
       "      <td>39.15</td>\n",
       "      <td>22.0</td>\n",
       "      <td>2213.0</td>\n",
       "      <td>98.0</td>\n",
       "      <td>42.0</td>\n",
       "      <td>1.1912</td>\n",
       "      <td>170000.0</td>\n",
       "      <td>INLAND</td>\n",
       "      <td>1.0</td>\n",
       "      <td>(0.0, 1.0, 0.0, 0.0)</td>\n",
       "      <td>[-120.06, 39.15, 22.0, 2213.0, 98.0, 42.0, 1.1...</td>\n",
       "      <td>[-59.76152729703093, 18.242523617240725, 1.766...</td>\n",
       "      <td>[0.0, 1.0, 0.0, 0.0, -59.76152729703093, 18.24...</td>\n",
       "      <td>-21182.882867</td>\n",
       "    </tr>\n",
       "    <tr>\n",
       "      <th>6</th>\n",
       "      <td>-119.75</td>\n",
       "      <td>36.72</td>\n",
       "      <td>22.0</td>\n",
       "      <td>3247.0</td>\n",
       "      <td>4179.0</td>\n",
       "      <td>881.0</td>\n",
       "      <td>1.3343</td>\n",
       "      <td>60800.0</td>\n",
       "      <td>INLAND</td>\n",
       "      <td>1.0</td>\n",
       "      <td>(0.0, 1.0, 0.0, 0.0)</td>\n",
       "      <td>[-119.75, 36.72, 22.0, 3247.0, 4179.0, 881.0, ...</td>\n",
       "      <td>[-59.607220504909655, 17.110229047894748, 1.76...</td>\n",
       "      <td>[0.0, 1.0, 0.0, 0.0, -59.607220504909655, 17.1...</td>\n",
       "      <td>-46015.725993</td>\n",
       "    </tr>\n",
       "    <tr>\n",
       "      <th>7</th>\n",
       "      <td>-119.28</td>\n",
       "      <td>36.33</td>\n",
       "      <td>10.0</td>\n",
       "      <td>1051.0</td>\n",
       "      <td>927.0</td>\n",
       "      <td>274.0</td>\n",
       "      <td>0.7800</td>\n",
       "      <td>55500.0</td>\n",
       "      <td>INLAND</td>\n",
       "      <td>1.0</td>\n",
       "      <td>(0.0, 1.0, 0.0, 0.0)</td>\n",
       "      <td>[-119.28, 36.33, 10.0, 1051.0, 927.0, 274.0, 0...</td>\n",
       "      <td>[-59.37327149749999, 16.92850275898737, 0.8030...</td>\n",
       "      <td>[0.0, 1.0, 0.0, 0.0, -59.37327149749999, 16.92...</td>\n",
       "      <td>-390.229504</td>\n",
       "    </tr>\n",
       "    <tr>\n",
       "      <th>8</th>\n",
       "      <td>-114.68</td>\n",
       "      <td>33.49</td>\n",
       "      <td>20.0</td>\n",
       "      <td>1491.0</td>\n",
       "      <td>1135.0</td>\n",
       "      <td>303.0</td>\n",
       "      <td>1.6395</td>\n",
       "      <td>44400.0</td>\n",
       "      <td>INLAND</td>\n",
       "      <td>1.0</td>\n",
       "      <td>(0.0, 1.0, 0.0, 0.0)</td>\n",
       "      <td>[-114.68, 33.49, 20.0, 1491.0, 1135.0, 303.0, ...</td>\n",
       "      <td>[-57.08355780795858, 15.60516260386697, 1.6061...</td>\n",
       "      <td>[0.0, 1.0, 0.0, 0.0, -57.08355780795858, 15.60...</td>\n",
       "      <td>-8480.643708</td>\n",
       "    </tr>\n",
       "    <tr>\n",
       "      <th>9</th>\n",
       "      <td>-114.65</td>\n",
       "      <td>32.79</td>\n",
       "      <td>21.0</td>\n",
       "      <td>44.0</td>\n",
       "      <td>64.0</td>\n",
       "      <td>27.0</td>\n",
       "      <td>0.8571</td>\n",
       "      <td>25000.0</td>\n",
       "      <td>INLAND</td>\n",
       "      <td>1.0</td>\n",
       "      <td>(0.0, 1.0, 0.0, 0.0)</td>\n",
       "      <td>[-114.65, 32.79, 21.0, 44.0, 64.0, 27.0, 0.8571]</td>\n",
       "      <td>[-57.068624892592005, 15.278987213520393, 1.68...</td>\n",
       "      <td>[0.0, 1.0, 0.0, 0.0, -57.068624892592005, 15.2...</td>\n",
       "      <td>-10054.158048</td>\n",
       "    </tr>\n",
       "    <tr>\n",
       "      <th>10</th>\n",
       "      <td>-114.65</td>\n",
       "      <td>34.89</td>\n",
       "      <td>17.0</td>\n",
       "      <td>2556.0</td>\n",
       "      <td>1005.0</td>\n",
       "      <td>401.0</td>\n",
       "      <td>1.6991</td>\n",
       "      <td>69100.0</td>\n",
       "      <td>INLAND</td>\n",
       "      <td>1.0</td>\n",
       "      <td>(0.0, 1.0, 0.0, 0.0)</td>\n",
       "      <td>[-114.65, 34.89, 17.0, 2556.0, 1005.0, 401.0, ...</td>\n",
       "      <td>[-57.068624892592005, 16.257513384560127, 1.36...</td>\n",
       "      <td>[0.0, 1.0, 0.0, 0.0, -57.068624892592005, 16.2...</td>\n",
       "      <td>-17075.439126</td>\n",
       "    </tr>\n",
       "    <tr>\n",
       "      <th>11</th>\n",
       "      <td>-114.31</td>\n",
       "      <td>34.19</td>\n",
       "      <td>15.0</td>\n",
       "      <td>5612.0</td>\n",
       "      <td>1015.0</td>\n",
       "      <td>472.0</td>\n",
       "      <td>1.4936</td>\n",
       "      <td>66900.0</td>\n",
       "      <td>INLAND</td>\n",
       "      <td>1.0</td>\n",
       "      <td>(0.0, 1.0, 0.0, 0.0)</td>\n",
       "      <td>[-114.31, 34.19, 15.0, 5612.0, 1015.0, 472.0, ...</td>\n",
       "      <td>[-56.89938518510416, 15.931337994213546, 1.204...</td>\n",
       "      <td>[0.0, 1.0, 0.0, 0.0, -56.89938518510416, 15.93...</td>\n",
       "      <td>-16346.324872</td>\n",
       "    </tr>\n",
       "  </tbody>\n",
       "</table>\n",
       "</div>"
      ],
      "text/plain": [
       "    longitude  latitude  housing_median_age  total_rooms  population  \\\n",
       "0     -124.15     41.81                17.0       3276.0      3546.0   \n",
       "1     -121.79     38.54                 7.0       1777.0      4479.0   \n",
       "2     -120.51     40.41                36.0         36.0      4198.0   \n",
       "3     -120.09     39.92                19.0       2335.0      1028.0   \n",
       "4     -120.08     41.79                34.0       1355.0       434.0   \n",
       "5     -120.06     39.15                22.0       2213.0        98.0   \n",
       "6     -119.75     36.72                22.0       3247.0      4179.0   \n",
       "7     -119.28     36.33                10.0       1051.0       927.0   \n",
       "8     -114.68     33.49                20.0       1491.0      1135.0   \n",
       "9     -114.65     32.79                21.0         44.0        64.0   \n",
       "10    -114.65     34.89                17.0       2556.0      1005.0   \n",
       "11    -114.31     34.19                15.0       5612.0      1015.0   \n",
       "\n",
       "    households  median_income  median_house_value ocean_proximity  \\\n",
       "0        585.0         2.2868            103100.0      NEAR OCEAN   \n",
       "1        504.0         1.4653            310000.0          INLAND   \n",
       "2          7.0         5.5179             67500.0          INLAND   \n",
       "3        383.0         1.7267             60700.0          INLAND   \n",
       "4        178.0         2.0903             56100.0          INLAND   \n",
       "5         42.0         1.1912            170000.0          INLAND   \n",
       "6        881.0         1.3343             60800.0          INLAND   \n",
       "7        274.0         0.7800             55500.0          INLAND   \n",
       "8        303.0         1.6395             44400.0          INLAND   \n",
       "9         27.0         0.8571             25000.0          INLAND   \n",
       "10       401.0         1.6991             69100.0          INLAND   \n",
       "11       472.0         1.4936             66900.0          INLAND   \n",
       "\n",
       "    ocean_proximity_idx   ocean_proximity_ohe  \\\n",
       "0                   2.0  (0.0, 0.0, 1.0, 0.0)   \n",
       "1                   1.0  (0.0, 1.0, 0.0, 0.0)   \n",
       "2                   1.0  (0.0, 1.0, 0.0, 0.0)   \n",
       "3                   1.0  (0.0, 1.0, 0.0, 0.0)   \n",
       "4                   1.0  (0.0, 1.0, 0.0, 0.0)   \n",
       "5                   1.0  (0.0, 1.0, 0.0, 0.0)   \n",
       "6                   1.0  (0.0, 1.0, 0.0, 0.0)   \n",
       "7                   1.0  (0.0, 1.0, 0.0, 0.0)   \n",
       "8                   1.0  (0.0, 1.0, 0.0, 0.0)   \n",
       "9                   1.0  (0.0, 1.0, 0.0, 0.0)   \n",
       "10                  1.0  (0.0, 1.0, 0.0, 0.0)   \n",
       "11                  1.0  (0.0, 1.0, 0.0, 0.0)   \n",
       "\n",
       "                                   numerical_features  \\\n",
       "0   [-124.15, 41.81, 17.0, 3276.0, 3546.0, 585.0, ...   \n",
       "1   [-121.79, 38.54, 7.0, 1777.0, 4479.0, 504.0, 1...   \n",
       "2   [-120.51, 40.41, 36.0, 36.0, 4198.0, 7.0, 5.5179]   \n",
       "3   [-120.09, 39.92, 19.0, 2335.0, 1028.0, 383.0, ...   \n",
       "4   [-120.08, 41.79, 34.0, 1355.0, 434.0, 178.0, 2...   \n",
       "5   [-120.06, 39.15, 22.0, 2213.0, 98.0, 42.0, 1.1...   \n",
       "6   [-119.75, 36.72, 22.0, 3247.0, 4179.0, 881.0, ...   \n",
       "7   [-119.28, 36.33, 10.0, 1051.0, 927.0, 274.0, 0...   \n",
       "8   [-114.68, 33.49, 20.0, 1491.0, 1135.0, 303.0, ...   \n",
       "9    [-114.65, 32.79, 21.0, 44.0, 64.0, 27.0, 0.8571]   \n",
       "10  [-114.65, 34.89, 17.0, 2556.0, 1005.0, 401.0, ...   \n",
       "11  [-114.31, 34.19, 15.0, 5612.0, 1015.0, 472.0, ...   \n",
       "\n",
       "                            numerical_features_scaled  \\\n",
       "0   [-61.79738142534058, 19.48199010055772, 1.3652...   \n",
       "1   [-60.622658749836724, 17.95828506279585, 0.562...   \n",
       "2   [-59.98552102752954, 18.82963931986456, 2.8911...   \n",
       "3   [-59.7764602123975, 18.601316546621963, 1.5258...   \n",
       "4   [-59.771482573941974, 19.472670803690676, 2.73...   \n",
       "5   [-59.76152729703093, 18.242523617240725, 1.766...   \n",
       "6   [-59.607220504909655, 17.110229047894748, 1.76...   \n",
       "7   [-59.37327149749999, 16.92850275898737, 0.8030...   \n",
       "8   [-57.08355780795858, 15.60516260386697, 1.6061...   \n",
       "9   [-57.068624892592005, 15.278987213520393, 1.68...   \n",
       "10  [-57.068624892592005, 16.257513384560127, 1.36...   \n",
       "11  [-56.89938518510416, 15.931337994213546, 1.204...   \n",
       "\n",
       "                                             features     prediction  \n",
       "0   [0.0, 0.0, 1.0, 0.0, -61.79738142534058, 19.48...   -9320.579842  \n",
       "1   [0.0, 1.0, 0.0, 0.0, -60.622658749836724, 17.9... -148822.837160  \n",
       "2   [0.0, 1.0, 0.0, 0.0, -59.98552102752954, 18.82... -114008.063171  \n",
       "3   [0.0, 1.0, 0.0, 0.0, -59.7764602123975, 18.601...   -4405.362463  \n",
       "4   [0.0, 1.0, 0.0, 0.0, -59.771482573941974, 19.4...  -21247.792849  \n",
       "5   [0.0, 1.0, 0.0, 0.0, -59.76152729703093, 18.24...  -21182.882867  \n",
       "6   [0.0, 1.0, 0.0, 0.0, -59.607220504909655, 17.1...  -46015.725993  \n",
       "7   [0.0, 1.0, 0.0, 0.0, -59.37327149749999, 16.92...    -390.229504  \n",
       "8   [0.0, 1.0, 0.0, 0.0, -57.08355780795858, 15.60...   -8480.643708  \n",
       "9   [0.0, 1.0, 0.0, 0.0, -57.068624892592005, 15.2...  -10054.158048  \n",
       "10  [0.0, 1.0, 0.0, 0.0, -57.068624892592005, 16.2...  -17075.439126  \n",
       "11  [0.0, 1.0, 0.0, 0.0, -56.89938518510416, 15.93...  -16346.324872  "
      ]
     },
     "execution_count": 48,
     "metadata": {},
     "output_type": "execute_result"
    }
   ],
   "source": [
    "full_pred.filter(F.col('prediction') < 0).toPandas()"
   ]
  },
  {
   "cell_type": "markdown",
   "id": "78015baa",
   "metadata": {},
   "source": [
    "Можно заметить, что у этих записей возраст здания небольшой, медианный доход на жителя ниже среднего, и почти все удалены от океана. Возможно, совокупность этих признаков даёт такой результат. В некоторых записях могут быть аномалии, к примеру, где на 7 домовладений приходится 4198 человек."
   ]
  },
  {
   "cell_type": "markdown",
   "id": "099fcd46",
   "metadata": {},
   "source": [
    "Обучим модель только на числовых признаках."
   ]
  },
  {
   "cell_type": "code",
   "execution_count": 49,
   "id": "e88a2b61",
   "metadata": {},
   "outputs": [],
   "source": [
    "# произведем изменения в пайплайне, перепишем функцию\n",
    "\n",
    "def train_func_2(features):\n",
    "    \n",
    "    # создаём объект модели линейной регрессии\n",
    "    lr = LinearRegression(labelCol=target, featuresCol=features)\n",
    "    \n",
    "    # строим сетку для подбора гиперпараметров\n",
    "    grid_search = ParamGridBuilder() \\\n",
    "        .addGrid(lr.regParam, [0.0, 0.01, 0.1]) \\\n",
    "        .addGrid(lr.elasticNetParam, [0.5, 1.0]) \\\n",
    "        .build()\n",
    "    \n",
    "    # создаём объект для оценки качества модели метрикой RMSE\n",
    "    evaluator = RegressionEvaluator(predictionCol='prediction',\n",
    "                                    labelCol=target)\n",
    "    \n",
    "    # строим итоговый пайплайн для обучения модели\n",
    "    pipeline = Pipeline(\n",
    "        stages = [numerical_assembler, \n",
    "                  standardScaler, \n",
    "                  lr]\n",
    "    )\n",
    "    \n",
    "    # создаём кросс-валидатор\n",
    "    cv = CrossValidator(estimator=pipeline,\n",
    "                        estimatorParamMaps=grid_search,\n",
    "                        evaluator=evaluator,\n",
    "                        numFolds = 5)\n",
    "    \n",
    "    # обучаем кросс-валидатор на обучающей выборке\n",
    "    cv_model = cv.fit(train)\n",
    "    \n",
    "    # получаем лучшую модель\n",
    "    best_model = cv_model.bestModel\n",
    "    \n",
    "    # получаем параметры лучшей модели\n",
    "    params = best_model.stages[2].extractParamMap()\n",
    "    \n",
    "    # получаем предсказания на тестовой выборке\n",
    "    predictions = best_model.transform(test)\n",
    "    \n",
    "    return params, predictions"
   ]
  },
  {
   "cell_type": "code",
   "execution_count": 50,
   "id": "4583ee8d",
   "metadata": {},
   "outputs": [],
   "source": [
    "num_params, num_pred = train_func_2('numerical_features_scaled')"
   ]
  },
  {
   "cell_type": "code",
   "execution_count": 51,
   "id": "4ef1204f",
   "metadata": {},
   "outputs": [
    {
     "data": {
      "text/html": [
       "<div>\n",
       "<style scoped>\n",
       "    .dataframe tbody tr th:only-of-type {\n",
       "        vertical-align: middle;\n",
       "    }\n",
       "\n",
       "    .dataframe tbody tr th {\n",
       "        vertical-align: top;\n",
       "    }\n",
       "\n",
       "    .dataframe thead th {\n",
       "        text-align: right;\n",
       "    }\n",
       "</style>\n",
       "<table border=\"1\" class=\"dataframe\">\n",
       "  <thead>\n",
       "    <tr style=\"text-align: right;\">\n",
       "      <th></th>\n",
       "      <th>median_house_value</th>\n",
       "      <th>prediction</th>\n",
       "    </tr>\n",
       "  </thead>\n",
       "  <tbody>\n",
       "    <tr>\n",
       "      <th>0</th>\n",
       "      <td>58100.0</td>\n",
       "      <td>104780.091899</td>\n",
       "    </tr>\n",
       "    <tr>\n",
       "      <th>1</th>\n",
       "      <td>68400.0</td>\n",
       "      <td>74317.491023</td>\n",
       "    </tr>\n",
       "    <tr>\n",
       "      <th>2</th>\n",
       "      <td>67000.0</td>\n",
       "      <td>113650.821620</td>\n",
       "    </tr>\n",
       "    <tr>\n",
       "      <th>3</th>\n",
       "      <td>81300.0</td>\n",
       "      <td>117096.870895</td>\n",
       "    </tr>\n",
       "    <tr>\n",
       "      <th>4</th>\n",
       "      <td>70500.0</td>\n",
       "      <td>136323.293552</td>\n",
       "    </tr>\n",
       "    <tr>\n",
       "      <th>5</th>\n",
       "      <td>60000.0</td>\n",
       "      <td>108475.081375</td>\n",
       "    </tr>\n",
       "    <tr>\n",
       "      <th>6</th>\n",
       "      <td>74100.0</td>\n",
       "      <td>118052.932089</td>\n",
       "    </tr>\n",
       "    <tr>\n",
       "      <th>7</th>\n",
       "      <td>90000.0</td>\n",
       "      <td>183762.933219</td>\n",
       "    </tr>\n",
       "    <tr>\n",
       "      <th>8</th>\n",
       "      <td>104200.0</td>\n",
       "      <td>170115.637194</td>\n",
       "    </tr>\n",
       "    <tr>\n",
       "      <th>9</th>\n",
       "      <td>74100.0</td>\n",
       "      <td>125860.448426</td>\n",
       "    </tr>\n",
       "  </tbody>\n",
       "</table>\n",
       "</div>"
      ],
      "text/plain": [
       "   median_house_value     prediction\n",
       "0             58100.0  104780.091899\n",
       "1             68400.0   74317.491023\n",
       "2             67000.0  113650.821620\n",
       "3             81300.0  117096.870895\n",
       "4             70500.0  136323.293552\n",
       "5             60000.0  108475.081375\n",
       "6             74100.0  118052.932089\n",
       "7             90000.0  183762.933219\n",
       "8            104200.0  170115.637194\n",
       "9             74100.0  125860.448426"
      ]
     },
     "execution_count": 51,
     "metadata": {},
     "output_type": "execute_result"
    }
   ],
   "source": [
    "num_pred.select('median_house_value', 'prediction').sample(0.5).toPandas().head(10)"
   ]
  },
  {
   "cell_type": "code",
   "execution_count": 52,
   "id": "96340ea7",
   "metadata": {},
   "outputs": [
    {
     "name": "stdout",
     "output_type": "stream",
     "text": [
      "RMSE на числовых данных: 68591.96244763942\n",
      "R2 на числовых данных: 0.634056717442276\n",
      "MAE на числовых данных: 49972.280273974866\n"
     ]
    }
   ],
   "source": [
    "# посчитаем метрики\n",
    "\n",
    "print(\"RMSE на числовых данных:\", \n",
    "      RegressionEvaluator(labelCol='median_house_value', metricName='rmse').evaluate(num_pred))\n",
    "print(\"R2 на числовых данных:\", \n",
    "      RegressionEvaluator(labelCol='median_house_value', metricName='r2').evaluate(num_pred))\n",
    "print(\"MAE на числовых данных:\", \n",
    "      RegressionEvaluator(labelCol='median_house_value', metricName='mae').evaluate(num_pred))"
   ]
  },
  {
   "cell_type": "code",
   "execution_count": 53,
   "id": "45edaa9b",
   "metadata": {},
   "outputs": [
    {
     "data": {
      "text/plain": [
       "24"
      ]
     },
     "execution_count": 53,
     "metadata": {},
     "output_type": "execute_result"
    }
   ],
   "source": [
    "num_pred.filter(F.col('prediction') < 0).count()"
   ]
  },
  {
   "cell_type": "code",
   "execution_count": 54,
   "id": "530c83e5",
   "metadata": {},
   "outputs": [
    {
     "data": {
      "text/html": [
       "<div>\n",
       "<style scoped>\n",
       "    .dataframe tbody tr th:only-of-type {\n",
       "        vertical-align: middle;\n",
       "    }\n",
       "\n",
       "    .dataframe tbody tr th {\n",
       "        vertical-align: top;\n",
       "    }\n",
       "\n",
       "    .dataframe thead th {\n",
       "        text-align: right;\n",
       "    }\n",
       "</style>\n",
       "<table border=\"1\" class=\"dataframe\">\n",
       "  <thead>\n",
       "    <tr style=\"text-align: right;\">\n",
       "      <th></th>\n",
       "      <th>longitude</th>\n",
       "      <th>latitude</th>\n",
       "      <th>housing_median_age</th>\n",
       "      <th>total_rooms</th>\n",
       "      <th>population</th>\n",
       "      <th>households</th>\n",
       "      <th>median_income</th>\n",
       "      <th>median_house_value</th>\n",
       "      <th>ocean_proximity</th>\n",
       "      <th>numerical_features</th>\n",
       "      <th>numerical_features_scaled</th>\n",
       "      <th>prediction</th>\n",
       "    </tr>\n",
       "  </thead>\n",
       "  <tbody>\n",
       "    <tr>\n",
       "      <th>0</th>\n",
       "      <td>-124.15</td>\n",
       "      <td>41.81</td>\n",
       "      <td>17.0</td>\n",
       "      <td>3276.0</td>\n",
       "      <td>3546.0</td>\n",
       "      <td>585.0</td>\n",
       "      <td>2.2868</td>\n",
       "      <td>103100.0</td>\n",
       "      <td>NEAR OCEAN</td>\n",
       "      <td>[-124.15, 41.81, 17.0, 3276.0, 3546.0, 585.0, ...</td>\n",
       "      <td>[-61.79738142534058, 19.48199010055772, 1.3652...</td>\n",
       "      <td>-61586.447882</td>\n",
       "    </tr>\n",
       "    <tr>\n",
       "      <th>1</th>\n",
       "      <td>-122.26</td>\n",
       "      <td>37.87</td>\n",
       "      <td>52.0</td>\n",
       "      <td>1087.0</td>\n",
       "      <td>3337.0</td>\n",
       "      <td>350.0</td>\n",
       "      <td>1.4012</td>\n",
       "      <td>175000.0</td>\n",
       "      <td>NEAR BAY</td>\n",
       "      <td>[-122.26, 37.87, 52.0, 1087.0, 3337.0, 350.0, ...</td>\n",
       "      <td>[-60.85660775724639, 17.64608861774984, 4.1760...</td>\n",
       "      <td>-3633.967619</td>\n",
       "    </tr>\n",
       "    <tr>\n",
       "      <th>2</th>\n",
       "      <td>-122.26</td>\n",
       "      <td>41.66</td>\n",
       "      <td>17.0</td>\n",
       "      <td>1885.0</td>\n",
       "      <td>953.0</td>\n",
       "      <td>328.0</td>\n",
       "      <td>2.1607</td>\n",
       "      <td>61400.0</td>\n",
       "      <td>INLAND</td>\n",
       "      <td>[-122.26, 41.66, 17.0, 1885.0, 953.0, 328.0, 2...</td>\n",
       "      <td>[-60.85660775724639, 19.41209537405488, 1.3652...</td>\n",
       "      <td>-17087.884825</td>\n",
       "    </tr>\n",
       "    <tr>\n",
       "      <th>3</th>\n",
       "      <td>-121.93</td>\n",
       "      <td>41.86</td>\n",
       "      <td>28.0</td>\n",
       "      <td>4225.0</td>\n",
       "      <td>1908.0</td>\n",
       "      <td>686.0</td>\n",
       "      <td>1.7400</td>\n",
       "      <td>44000.0</td>\n",
       "      <td>INLAND</td>\n",
       "      <td>[-121.93, 41.86, 28.0, 4225.0, 1908.0, 686.0, ...</td>\n",
       "      <td>[-60.69234568821407, 19.505288342725333, 2.248...</td>\n",
       "      <td>-34300.768550</td>\n",
       "    </tr>\n",
       "    <tr>\n",
       "      <th>4</th>\n",
       "      <td>-121.79</td>\n",
       "      <td>38.54</td>\n",
       "      <td>7.0</td>\n",
       "      <td>1777.0</td>\n",
       "      <td>4479.0</td>\n",
       "      <td>504.0</td>\n",
       "      <td>1.4653</td>\n",
       "      <td>310000.0</td>\n",
       "      <td>INLAND</td>\n",
       "      <td>[-121.79, 38.54, 7.0, 1777.0, 4479.0, 504.0, 1...</td>\n",
       "      <td>[-60.622658749836724, 17.95828506279585, 0.562...</td>\n",
       "      <td>-142712.301351</td>\n",
       "    </tr>\n",
       "    <tr>\n",
       "      <th>5</th>\n",
       "      <td>-121.67</td>\n",
       "      <td>40.61</td>\n",
       "      <td>8.0</td>\n",
       "      <td>2411.0</td>\n",
       "      <td>786.0</td>\n",
       "      <td>297.0</td>\n",
       "      <td>2.1513</td>\n",
       "      <td>80400.0</td>\n",
       "      <td>INLAND</td>\n",
       "      <td>[-121.67, 40.61, 8.0, 2411.0, 786.0, 297.0, 2....</td>\n",
       "      <td>[-60.56292708837042, 18.922832288535016, 0.642...</td>\n",
       "      <td>-8970.936947</td>\n",
       "    </tr>\n",
       "    <tr>\n",
       "      <th>6</th>\n",
       "      <td>-121.11</td>\n",
       "      <td>41.07</td>\n",
       "      <td>26.0</td>\n",
       "      <td>1707.0</td>\n",
       "      <td>761.0</td>\n",
       "      <td>250.0</td>\n",
       "      <td>2.7188</td>\n",
       "      <td>48100.0</td>\n",
       "      <td>INLAND</td>\n",
       "      <td>[-121.11, 41.07, 26.0, 1707.0, 761.0, 250.0, 2...</td>\n",
       "      <td>[-60.28417933486103, 19.137176116477054, 2.088...</td>\n",
       "      <td>-9854.044465</td>\n",
       "    </tr>\n",
       "    <tr>\n",
       "      <th>7</th>\n",
       "      <td>-120.96</td>\n",
       "      <td>41.12</td>\n",
       "      <td>29.0</td>\n",
       "      <td>779.0</td>\n",
       "      <td>364.0</td>\n",
       "      <td>123.0</td>\n",
       "      <td>2.5000</td>\n",
       "      <td>59200.0</td>\n",
       "      <td>INLAND</td>\n",
       "      <td>[-120.96, 41.12, 29.0, 779.0, 364.0, 123.0, 2.5]</td>\n",
       "      <td>[-60.209514758028156, 19.160474358644663, 2.32...</td>\n",
       "      <td>-21943.471214</td>\n",
       "    </tr>\n",
       "    <tr>\n",
       "      <th>8</th>\n",
       "      <td>-120.74</td>\n",
       "      <td>39.39</td>\n",
       "      <td>18.0</td>\n",
       "      <td>453.0</td>\n",
       "      <td>152.0</td>\n",
       "      <td>77.0</td>\n",
       "      <td>1.3523</td>\n",
       "      <td>85700.0</td>\n",
       "      <td>INLAND</td>\n",
       "      <td>[-120.74, 39.39, 18.0, 453.0, 152.0, 77.0, 1.3...</td>\n",
       "      <td>[-60.10000671200661, 18.354355179645268, 1.445...</td>\n",
       "      <td>-17518.547902</td>\n",
       "    </tr>\n",
       "    <tr>\n",
       "      <th>9</th>\n",
       "      <td>-120.51</td>\n",
       "      <td>40.41</td>\n",
       "      <td>36.0</td>\n",
       "      <td>36.0</td>\n",
       "      <td>4198.0</td>\n",
       "      <td>7.0</td>\n",
       "      <td>5.5179</td>\n",
       "      <td>67500.0</td>\n",
       "      <td>INLAND</td>\n",
       "      <td>[-120.51, 40.41, 36.0, 36.0, 4198.0, 7.0, 5.5179]</td>\n",
       "      <td>[-59.98552102752954, 18.82963931986456, 2.8911...</td>\n",
       "      <td>-154095.069813</td>\n",
       "    </tr>\n",
       "    <tr>\n",
       "      <th>10</th>\n",
       "      <td>-120.51</td>\n",
       "      <td>41.35</td>\n",
       "      <td>16.0</td>\n",
       "      <td>2843.0</td>\n",
       "      <td>892.0</td>\n",
       "      <td>386.0</td>\n",
       "      <td>2.5074</td>\n",
       "      <td>69100.0</td>\n",
       "      <td>INLAND</td>\n",
       "      <td>[-120.51, 41.35, 16.0, 2843.0, 892.0, 386.0, 2...</td>\n",
       "      <td>[-59.98552102752954, 19.267646272615682, 1.284...</td>\n",
       "      <td>-48444.706879</td>\n",
       "    </tr>\n",
       "    <tr>\n",
       "      <th>11</th>\n",
       "      <td>-120.48</td>\n",
       "      <td>39.66</td>\n",
       "      <td>32.0</td>\n",
       "      <td>1516.0</td>\n",
       "      <td>304.0</td>\n",
       "      <td>131.0</td>\n",
       "      <td>1.8839</td>\n",
       "      <td>71000.0</td>\n",
       "      <td>INLAND</td>\n",
       "      <td>[-120.48, 39.66, 32.0, 1516.0, 304.0, 131.0, 1...</td>\n",
       "      <td>[-59.97058811216297, 18.48016568735037, 2.5699...</td>\n",
       "      <td>-3236.469697</td>\n",
       "    </tr>\n",
       "    <tr>\n",
       "      <th>12</th>\n",
       "      <td>-120.48</td>\n",
       "      <td>39.78</td>\n",
       "      <td>11.0</td>\n",
       "      <td>513.0</td>\n",
       "      <td>204.0</td>\n",
       "      <td>86.0</td>\n",
       "      <td>2.3750</td>\n",
       "      <td>100000.0</td>\n",
       "      <td>INLAND</td>\n",
       "      <td>[-120.48, 39.78, 11.0, 513.0, 204.0, 86.0, 2.375]</td>\n",
       "      <td>[-59.97058811216297, 18.536081468552645, 0.883...</td>\n",
       "      <td>-10573.778070</td>\n",
       "    </tr>\n",
       "    <tr>\n",
       "      <th>13</th>\n",
       "      <td>-120.19</td>\n",
       "      <td>39.32</td>\n",
       "      <td>16.0</td>\n",
       "      <td>1536.0</td>\n",
       "      <td>646.0</td>\n",
       "      <td>208.0</td>\n",
       "      <td>2.3594</td>\n",
       "      <td>155700.0</td>\n",
       "      <td>INLAND</td>\n",
       "      <td>[-120.19, 39.32, 16.0, 1536.0, 646.0, 208.0, 2...</td>\n",
       "      <td>[-59.82623659695275, 18.321737640610607, 1.284...</td>\n",
       "      <td>-4562.800205</td>\n",
       "    </tr>\n",
       "    <tr>\n",
       "      <th>14</th>\n",
       "      <td>-120.12</td>\n",
       "      <td>41.40</td>\n",
       "      <td>33.0</td>\n",
       "      <td>2820.0</td>\n",
       "      <td>976.0</td>\n",
       "      <td>403.0</td>\n",
       "      <td>2.6062</td>\n",
       "      <td>52600.0</td>\n",
       "      <td>INLAND</td>\n",
       "      <td>[-120.12, 41.4, 33.0, 2820.0, 976.0, 403.0, 2....</td>\n",
       "      <td>[-59.79139312776408, 19.290944514783295, 2.650...</td>\n",
       "      <td>-42953.854357</td>\n",
       "    </tr>\n",
       "    <tr>\n",
       "      <th>15</th>\n",
       "      <td>-120.09</td>\n",
       "      <td>39.92</td>\n",
       "      <td>19.0</td>\n",
       "      <td>2335.0</td>\n",
       "      <td>1028.0</td>\n",
       "      <td>383.0</td>\n",
       "      <td>1.7267</td>\n",
       "      <td>60700.0</td>\n",
       "      <td>INLAND</td>\n",
       "      <td>[-120.09, 39.92, 19.0, 2335.0, 1028.0, 383.0, ...</td>\n",
       "      <td>[-59.7764602123975, 18.601316546621963, 1.5258...</td>\n",
       "      <td>-43675.257167</td>\n",
       "    </tr>\n",
       "    <tr>\n",
       "      <th>16</th>\n",
       "      <td>-120.08</td>\n",
       "      <td>41.79</td>\n",
       "      <td>34.0</td>\n",
       "      <td>1355.0</td>\n",
       "      <td>434.0</td>\n",
       "      <td>178.0</td>\n",
       "      <td>2.0903</td>\n",
       "      <td>56100.0</td>\n",
       "      <td>INLAND</td>\n",
       "      <td>[-120.08, 41.79, 34.0, 1355.0, 434.0, 178.0, 2...</td>\n",
       "      <td>[-59.771482573941974, 19.472670803690676, 2.73...</td>\n",
       "      <td>-89736.822177</td>\n",
       "    </tr>\n",
       "    <tr>\n",
       "      <th>17</th>\n",
       "      <td>-120.06</td>\n",
       "      <td>39.15</td>\n",
       "      <td>22.0</td>\n",
       "      <td>2213.0</td>\n",
       "      <td>98.0</td>\n",
       "      <td>42.0</td>\n",
       "      <td>1.1912</td>\n",
       "      <td>170000.0</td>\n",
       "      <td>INLAND</td>\n",
       "      <td>[-120.06, 39.15, 22.0, 2213.0, 98.0, 42.0, 1.1...</td>\n",
       "      <td>[-59.76152729703093, 18.242523617240725, 1.766...</td>\n",
       "      <td>-52083.887664</td>\n",
       "    </tr>\n",
       "    <tr>\n",
       "      <th>18</th>\n",
       "      <td>-119.75</td>\n",
       "      <td>36.72</td>\n",
       "      <td>22.0</td>\n",
       "      <td>3247.0</td>\n",
       "      <td>4179.0</td>\n",
       "      <td>881.0</td>\n",
       "      <td>1.3343</td>\n",
       "      <td>60800.0</td>\n",
       "      <td>INLAND</td>\n",
       "      <td>[-119.75, 36.72, 22.0, 3247.0, 4179.0, 881.0, ...</td>\n",
       "      <td>[-59.607220504909655, 17.110229047894748, 1.76...</td>\n",
       "      <td>-37066.504265</td>\n",
       "    </tr>\n",
       "    <tr>\n",
       "      <th>19</th>\n",
       "      <td>-117.02</td>\n",
       "      <td>36.40</td>\n",
       "      <td>19.0</td>\n",
       "      <td>619.0</td>\n",
       "      <td>490.0</td>\n",
       "      <td>164.0</td>\n",
       "      <td>2.1000</td>\n",
       "      <td>14999.0</td>\n",
       "      <td>INLAND</td>\n",
       "      <td>[-117.02, 36.4, 19.0, 619.0, 490.0, 164.0, 2.1]</td>\n",
       "      <td>[-58.248325206551385, 16.961120298022028, 1.52...</td>\n",
       "      <td>-15280.007631</td>\n",
       "    </tr>\n",
       "    <tr>\n",
       "      <th>20</th>\n",
       "      <td>-114.68</td>\n",
       "      <td>33.49</td>\n",
       "      <td>20.0</td>\n",
       "      <td>1491.0</td>\n",
       "      <td>1135.0</td>\n",
       "      <td>303.0</td>\n",
       "      <td>1.6395</td>\n",
       "      <td>44400.0</td>\n",
       "      <td>INLAND</td>\n",
       "      <td>[-114.68, 33.49, 20.0, 1491.0, 1135.0, 303.0, ...</td>\n",
       "      <td>[-57.08355780795858, 15.60516260386697, 1.6061...</td>\n",
       "      <td>-24259.347905</td>\n",
       "    </tr>\n",
       "    <tr>\n",
       "      <th>21</th>\n",
       "      <td>-114.65</td>\n",
       "      <td>32.79</td>\n",
       "      <td>21.0</td>\n",
       "      <td>44.0</td>\n",
       "      <td>64.0</td>\n",
       "      <td>27.0</td>\n",
       "      <td>0.8571</td>\n",
       "      <td>25000.0</td>\n",
       "      <td>INLAND</td>\n",
       "      <td>[-114.65, 32.79, 21.0, 44.0, 64.0, 27.0, 0.8571]</td>\n",
       "      <td>[-57.068624892592005, 15.278987213520393, 1.68...</td>\n",
       "      <td>-15424.240805</td>\n",
       "    </tr>\n",
       "    <tr>\n",
       "      <th>22</th>\n",
       "      <td>-114.65</td>\n",
       "      <td>34.89</td>\n",
       "      <td>17.0</td>\n",
       "      <td>2556.0</td>\n",
       "      <td>1005.0</td>\n",
       "      <td>401.0</td>\n",
       "      <td>1.6991</td>\n",
       "      <td>69100.0</td>\n",
       "      <td>INLAND</td>\n",
       "      <td>[-114.65, 34.89, 17.0, 2556.0, 1005.0, 401.0, ...</td>\n",
       "      <td>[-57.068624892592005, 16.257513384560127, 1.36...</td>\n",
       "      <td>-56823.825144</td>\n",
       "    </tr>\n",
       "    <tr>\n",
       "      <th>23</th>\n",
       "      <td>-114.31</td>\n",
       "      <td>34.19</td>\n",
       "      <td>15.0</td>\n",
       "      <td>5612.0</td>\n",
       "      <td>1015.0</td>\n",
       "      <td>472.0</td>\n",
       "      <td>1.4936</td>\n",
       "      <td>66900.0</td>\n",
       "      <td>INLAND</td>\n",
       "      <td>[-114.31, 34.19, 15.0, 5612.0, 1015.0, 472.0, ...</td>\n",
       "      <td>[-56.89938518510416, 15.931337994213546, 1.204...</td>\n",
       "      <td>-55082.048134</td>\n",
       "    </tr>\n",
       "  </tbody>\n",
       "</table>\n",
       "</div>"
      ],
      "text/plain": [
       "    longitude  latitude  housing_median_age  total_rooms  population  \\\n",
       "0     -124.15     41.81                17.0       3276.0      3546.0   \n",
       "1     -122.26     37.87                52.0       1087.0      3337.0   \n",
       "2     -122.26     41.66                17.0       1885.0       953.0   \n",
       "3     -121.93     41.86                28.0       4225.0      1908.0   \n",
       "4     -121.79     38.54                 7.0       1777.0      4479.0   \n",
       "5     -121.67     40.61                 8.0       2411.0       786.0   \n",
       "6     -121.11     41.07                26.0       1707.0       761.0   \n",
       "7     -120.96     41.12                29.0        779.0       364.0   \n",
       "8     -120.74     39.39                18.0        453.0       152.0   \n",
       "9     -120.51     40.41                36.0         36.0      4198.0   \n",
       "10    -120.51     41.35                16.0       2843.0       892.0   \n",
       "11    -120.48     39.66                32.0       1516.0       304.0   \n",
       "12    -120.48     39.78                11.0        513.0       204.0   \n",
       "13    -120.19     39.32                16.0       1536.0       646.0   \n",
       "14    -120.12     41.40                33.0       2820.0       976.0   \n",
       "15    -120.09     39.92                19.0       2335.0      1028.0   \n",
       "16    -120.08     41.79                34.0       1355.0       434.0   \n",
       "17    -120.06     39.15                22.0       2213.0        98.0   \n",
       "18    -119.75     36.72                22.0       3247.0      4179.0   \n",
       "19    -117.02     36.40                19.0        619.0       490.0   \n",
       "20    -114.68     33.49                20.0       1491.0      1135.0   \n",
       "21    -114.65     32.79                21.0         44.0        64.0   \n",
       "22    -114.65     34.89                17.0       2556.0      1005.0   \n",
       "23    -114.31     34.19                15.0       5612.0      1015.0   \n",
       "\n",
       "    households  median_income  median_house_value ocean_proximity  \\\n",
       "0        585.0         2.2868            103100.0      NEAR OCEAN   \n",
       "1        350.0         1.4012            175000.0        NEAR BAY   \n",
       "2        328.0         2.1607             61400.0          INLAND   \n",
       "3        686.0         1.7400             44000.0          INLAND   \n",
       "4        504.0         1.4653            310000.0          INLAND   \n",
       "5        297.0         2.1513             80400.0          INLAND   \n",
       "6        250.0         2.7188             48100.0          INLAND   \n",
       "7        123.0         2.5000             59200.0          INLAND   \n",
       "8         77.0         1.3523             85700.0          INLAND   \n",
       "9          7.0         5.5179             67500.0          INLAND   \n",
       "10       386.0         2.5074             69100.0          INLAND   \n",
       "11       131.0         1.8839             71000.0          INLAND   \n",
       "12        86.0         2.3750            100000.0          INLAND   \n",
       "13       208.0         2.3594            155700.0          INLAND   \n",
       "14       403.0         2.6062             52600.0          INLAND   \n",
       "15       383.0         1.7267             60700.0          INLAND   \n",
       "16       178.0         2.0903             56100.0          INLAND   \n",
       "17        42.0         1.1912            170000.0          INLAND   \n",
       "18       881.0         1.3343             60800.0          INLAND   \n",
       "19       164.0         2.1000             14999.0          INLAND   \n",
       "20       303.0         1.6395             44400.0          INLAND   \n",
       "21        27.0         0.8571             25000.0          INLAND   \n",
       "22       401.0         1.6991             69100.0          INLAND   \n",
       "23       472.0         1.4936             66900.0          INLAND   \n",
       "\n",
       "                                   numerical_features  \\\n",
       "0   [-124.15, 41.81, 17.0, 3276.0, 3546.0, 585.0, ...   \n",
       "1   [-122.26, 37.87, 52.0, 1087.0, 3337.0, 350.0, ...   \n",
       "2   [-122.26, 41.66, 17.0, 1885.0, 953.0, 328.0, 2...   \n",
       "3   [-121.93, 41.86, 28.0, 4225.0, 1908.0, 686.0, ...   \n",
       "4   [-121.79, 38.54, 7.0, 1777.0, 4479.0, 504.0, 1...   \n",
       "5   [-121.67, 40.61, 8.0, 2411.0, 786.0, 297.0, 2....   \n",
       "6   [-121.11, 41.07, 26.0, 1707.0, 761.0, 250.0, 2...   \n",
       "7    [-120.96, 41.12, 29.0, 779.0, 364.0, 123.0, 2.5]   \n",
       "8   [-120.74, 39.39, 18.0, 453.0, 152.0, 77.0, 1.3...   \n",
       "9   [-120.51, 40.41, 36.0, 36.0, 4198.0, 7.0, 5.5179]   \n",
       "10  [-120.51, 41.35, 16.0, 2843.0, 892.0, 386.0, 2...   \n",
       "11  [-120.48, 39.66, 32.0, 1516.0, 304.0, 131.0, 1...   \n",
       "12  [-120.48, 39.78, 11.0, 513.0, 204.0, 86.0, 2.375]   \n",
       "13  [-120.19, 39.32, 16.0, 1536.0, 646.0, 208.0, 2...   \n",
       "14  [-120.12, 41.4, 33.0, 2820.0, 976.0, 403.0, 2....   \n",
       "15  [-120.09, 39.92, 19.0, 2335.0, 1028.0, 383.0, ...   \n",
       "16  [-120.08, 41.79, 34.0, 1355.0, 434.0, 178.0, 2...   \n",
       "17  [-120.06, 39.15, 22.0, 2213.0, 98.0, 42.0, 1.1...   \n",
       "18  [-119.75, 36.72, 22.0, 3247.0, 4179.0, 881.0, ...   \n",
       "19    [-117.02, 36.4, 19.0, 619.0, 490.0, 164.0, 2.1]   \n",
       "20  [-114.68, 33.49, 20.0, 1491.0, 1135.0, 303.0, ...   \n",
       "21   [-114.65, 32.79, 21.0, 44.0, 64.0, 27.0, 0.8571]   \n",
       "22  [-114.65, 34.89, 17.0, 2556.0, 1005.0, 401.0, ...   \n",
       "23  [-114.31, 34.19, 15.0, 5612.0, 1015.0, 472.0, ...   \n",
       "\n",
       "                            numerical_features_scaled     prediction  \n",
       "0   [-61.79738142534058, 19.48199010055772, 1.3652...  -61586.447882  \n",
       "1   [-60.85660775724639, 17.64608861774984, 4.1760...   -3633.967619  \n",
       "2   [-60.85660775724639, 19.41209537405488, 1.3652...  -17087.884825  \n",
       "3   [-60.69234568821407, 19.505288342725333, 2.248...  -34300.768550  \n",
       "4   [-60.622658749836724, 17.95828506279585, 0.562... -142712.301351  \n",
       "5   [-60.56292708837042, 18.922832288535016, 0.642...   -8970.936947  \n",
       "6   [-60.28417933486103, 19.137176116477054, 2.088...   -9854.044465  \n",
       "7   [-60.209514758028156, 19.160474358644663, 2.32...  -21943.471214  \n",
       "8   [-60.10000671200661, 18.354355179645268, 1.445...  -17518.547902  \n",
       "9   [-59.98552102752954, 18.82963931986456, 2.8911... -154095.069813  \n",
       "10  [-59.98552102752954, 19.267646272615682, 1.284...  -48444.706879  \n",
       "11  [-59.97058811216297, 18.48016568735037, 2.5699...   -3236.469697  \n",
       "12  [-59.97058811216297, 18.536081468552645, 0.883...  -10573.778070  \n",
       "13  [-59.82623659695275, 18.321737640610607, 1.284...   -4562.800205  \n",
       "14  [-59.79139312776408, 19.290944514783295, 2.650...  -42953.854357  \n",
       "15  [-59.7764602123975, 18.601316546621963, 1.5258...  -43675.257167  \n",
       "16  [-59.771482573941974, 19.472670803690676, 2.73...  -89736.822177  \n",
       "17  [-59.76152729703093, 18.242523617240725, 1.766...  -52083.887664  \n",
       "18  [-59.607220504909655, 17.110229047894748, 1.76...  -37066.504265  \n",
       "19  [-58.248325206551385, 16.961120298022028, 1.52...  -15280.007631  \n",
       "20  [-57.08355780795858, 15.60516260386697, 1.6061...  -24259.347905  \n",
       "21  [-57.068624892592005, 15.278987213520393, 1.68...  -15424.240805  \n",
       "22  [-57.068624892592005, 16.257513384560127, 1.36...  -56823.825144  \n",
       "23  [-56.89938518510416, 15.931337994213546, 1.204...  -55082.048134  "
      ]
     },
     "execution_count": 54,
     "metadata": {},
     "output_type": "execute_result"
    }
   ],
   "source": [
    "num_pred.filter(F.col('prediction') < 0).toPandas()"
   ]
  },
  {
   "cell_type": "markdown",
   "id": "2668484a",
   "metadata": {},
   "source": [
    "При обучении модели только на числовых данных мы видим увеличение количества отрицательных значений, но их по-прежнему не критично много, и здесь те же закономерности, что и в первом случае. "
   ]
  },
  {
   "cell_type": "code",
   "execution_count": 55,
   "id": "70db101a",
   "metadata": {},
   "outputs": [],
   "source": [
    "# завершаем сессию\n",
    "\n",
    "spark.stop()"
   ]
  },
  {
   "cell_type": "markdown",
   "id": "757fd103",
   "metadata": {
    "id": "757fd103"
   },
   "source": [
    "## Анализ результатов"
   ]
  },
  {
   "cell_type": "markdown",
   "id": "9418c8d7",
   "metadata": {},
   "source": [
    "По результатм работы двух моделей лучшей оказалась модель, в которой использованы и категориальные и числовые признаки: у нее минимальные **RMSE = 67743** и **MAE = 48930** и выше **R-squared = 0.643**. Чуть более низкими результатами обладает модель только с числовыми признаками, без категориальных."
   ]
  }
 ],
 "metadata": {
  "ExecuteTimeLog": [
   {
    "duration": 1352,
    "start_time": "2024-03-25T08:02:17.619Z"
   },
   {
    "duration": 15466,
    "start_time": "2024-03-25T08:04:01.944Z"
   },
   {
    "duration": 8703,
    "start_time": "2024-03-25T08:07:38.580Z"
   },
   {
    "duration": 140,
    "start_time": "2024-03-25T08:08:15.762Z"
   },
   {
    "duration": 22,
    "start_time": "2024-03-25T08:08:21.638Z"
   },
   {
    "duration": 561,
    "start_time": "2024-03-25T08:10:36.330Z"
   },
   {
    "duration": 4127,
    "start_time": "2024-03-25T08:13:11.262Z"
   },
   {
    "duration": 12,
    "start_time": "2024-03-25T08:14:35.544Z"
   },
   {
    "duration": 10,
    "start_time": "2024-03-25T08:14:46.270Z"
   },
   {
    "duration": 10,
    "start_time": "2024-03-25T08:14:58.548Z"
   },
   {
    "duration": 9,
    "start_time": "2024-03-25T08:15:07.371Z"
   },
   {
    "duration": 244,
    "start_time": "2024-03-25T08:18:09.748Z"
   },
   {
    "duration": 1526,
    "start_time": "2024-03-25T08:18:15.387Z"
   },
   {
    "duration": 1096,
    "start_time": "2024-03-25T08:18:46.204Z"
   },
   {
    "duration": 510,
    "start_time": "2024-03-25T08:18:57.380Z"
   },
   {
    "duration": 535,
    "start_time": "2024-03-25T08:19:09.473Z"
   },
   {
    "duration": 443,
    "start_time": "2024-03-25T08:19:17.329Z"
   },
   {
    "duration": 292,
    "start_time": "2024-03-25T08:20:30.914Z"
   },
   {
    "duration": 10,
    "start_time": "2024-03-25T08:24:57.769Z"
   },
   {
    "duration": 3786,
    "start_time": "2024-03-25T08:30:15.111Z"
   },
   {
    "duration": 2621,
    "start_time": "2024-03-25T08:30:55.276Z"
   },
   {
    "duration": 5959,
    "start_time": "2024-03-25T08:34:32.034Z"
   },
   {
    "duration": 217,
    "start_time": "2024-03-25T08:40:16.029Z"
   },
   {
    "duration": 636,
    "start_time": "2024-03-25T08:40:31.600Z"
   },
   {
    "duration": 144,
    "start_time": "2024-03-25T08:40:42.512Z"
   },
   {
    "duration": 11,
    "start_time": "2024-03-25T08:41:16.257Z"
   },
   {
    "duration": 1749,
    "start_time": "2024-03-25T08:41:43.302Z"
   },
   {
    "duration": 4242,
    "start_time": "2024-03-25T08:46:25.763Z"
   },
   {
    "duration": 13,
    "start_time": "2024-03-25T08:53:19.920Z"
   },
   {
    "duration": 301,
    "start_time": "2024-03-25T08:54:05.802Z"
   },
   {
    "duration": 12,
    "start_time": "2024-03-25T08:54:32.549Z"
   },
   {
    "duration": 1293,
    "start_time": "2024-03-25T09:15:06.127Z"
   },
   {
    "duration": 1100,
    "start_time": "2024-03-25T09:15:37.003Z"
   },
   {
    "duration": 6,
    "start_time": "2024-03-25T09:16:31.579Z"
   },
   {
    "duration": 1557,
    "start_time": "2024-03-25T09:16:40.441Z"
   },
   {
    "duration": 1113,
    "start_time": "2024-03-25T09:16:45.359Z"
   },
   {
    "duration": 9,
    "start_time": "2024-03-25T09:21:34.718Z"
   },
   {
    "duration": 3942,
    "start_time": "2024-03-25T09:21:41.647Z"
   },
   {
    "duration": 2,
    "start_time": "2024-03-25T09:24:05.511Z"
   },
   {
    "duration": 456,
    "start_time": "2024-03-25T09:26:04.578Z"
   },
   {
    "duration": 540,
    "start_time": "2024-03-25T09:39:59.411Z"
   },
   {
    "duration": 1143,
    "start_time": "2024-03-25T10:34:14.794Z"
   },
   {
    "duration": 12,
    "start_time": "2024-03-25T10:34:33.018Z"
   },
   {
    "duration": 850,
    "start_time": "2024-03-25T10:34:44.761Z"
   },
   {
    "duration": 613,
    "start_time": "2024-03-25T10:39:53.679Z"
   },
   {
    "duration": 370,
    "start_time": "2024-03-25T10:40:24.653Z"
   },
   {
    "duration": 159,
    "start_time": "2024-03-25T10:47:40.224Z"
   },
   {
    "duration": 144,
    "start_time": "2024-03-25T10:47:51.339Z"
   },
   {
    "duration": 10,
    "start_time": "2024-03-25T10:49:07.106Z"
   },
   {
    "duration": 552,
    "start_time": "2024-03-25T10:49:43.465Z"
   },
   {
    "duration": 305,
    "start_time": "2024-03-25T10:51:56.525Z"
   },
   {
    "duration": 383,
    "start_time": "2024-03-25T10:52:46.300Z"
   },
   {
    "duration": 11,
    "start_time": "2024-03-25T10:52:57.089Z"
   },
   {
    "duration": 255,
    "start_time": "2024-03-25T10:53:08.098Z"
   },
   {
    "duration": 9,
    "start_time": "2024-03-25T10:53:27.012Z"
   },
   {
    "duration": 335,
    "start_time": "2024-03-25T10:56:15.704Z"
   },
   {
    "duration": 384,
    "start_time": "2024-03-25T10:56:50.808Z"
   },
   {
    "duration": 224,
    "start_time": "2024-03-25T10:57:07.375Z"
   },
   {
    "duration": 9,
    "start_time": "2024-03-25T10:57:25.939Z"
   },
   {
    "duration": 447,
    "start_time": "2024-03-25T10:58:36.441Z"
   },
   {
    "duration": 316,
    "start_time": "2024-03-25T10:59:00.373Z"
   },
   {
    "duration": 268,
    "start_time": "2024-03-25T10:59:31.214Z"
   },
   {
    "duration": 11,
    "start_time": "2024-03-25T10:59:48.939Z"
   },
   {
    "duration": 3,
    "start_time": "2024-03-25T11:00:12.046Z"
   },
   {
    "duration": 1247,
    "start_time": "2024-03-25T11:16:28.447Z"
   },
   {
    "duration": 3,
    "start_time": "2024-03-25T11:18:34.998Z"
   },
   {
    "duration": 42,
    "start_time": "2024-03-25T11:19:52.874Z"
   },
   {
    "duration": 13,
    "start_time": "2024-03-25T11:20:52.040Z"
   },
   {
    "duration": 12,
    "start_time": "2024-03-25T11:21:42.047Z"
   },
   {
    "duration": 9,
    "start_time": "2024-03-25T11:21:50.481Z"
   },
   {
    "duration": 7,
    "start_time": "2024-03-25T11:22:32.192Z"
   },
   {
    "duration": 60,
    "start_time": "2024-03-25T11:28:17.804Z"
   },
   {
    "duration": 56,
    "start_time": "2024-03-25T11:28:45.392Z"
   },
   {
    "duration": 5,
    "start_time": "2024-03-25T11:29:37.092Z"
   },
   {
    "duration": 5,
    "start_time": "2024-03-25T11:30:18.712Z"
   },
   {
    "duration": 54901,
    "start_time": "2024-03-25T11:31:10.229Z"
   },
   {
    "duration": 1243,
    "start_time": "2024-03-25T11:34:03.508Z"
   },
   {
    "duration": 15248,
    "start_time": "2024-03-25T11:34:04.753Z"
   },
   {
    "duration": 8499,
    "start_time": "2024-03-25T11:34:20.003Z"
   },
   {
    "duration": 81,
    "start_time": "2024-03-25T11:34:28.504Z"
   },
   {
    "duration": 795,
    "start_time": "2024-03-25T11:34:28.587Z"
   },
   {
    "duration": 4423,
    "start_time": "2024-03-25T11:34:29.384Z"
   },
   {
    "duration": 404,
    "start_time": "2024-03-25T11:34:33.809Z"
   },
   {
    "duration": 3821,
    "start_time": "2024-03-25T11:34:34.215Z"
   },
   {
    "duration": 3147,
    "start_time": "2024-03-25T11:34:38.038Z"
   },
   {
    "duration": 6305,
    "start_time": "2024-03-25T11:34:41.187Z"
   },
   {
    "duration": 2634,
    "start_time": "2024-03-25T11:34:47.494Z"
   },
   {
    "duration": 1247,
    "start_time": "2024-03-25T11:34:50.130Z"
   },
   {
    "duration": 11,
    "start_time": "2024-03-25T11:34:51.378Z"
   },
   {
    "duration": 3829,
    "start_time": "2024-03-25T11:34:51.392Z"
   },
   {
    "duration": 2,
    "start_time": "2024-03-25T11:34:55.223Z"
   },
   {
    "duration": 465,
    "start_time": "2024-03-25T11:34:55.227Z"
   },
   {
    "duration": 620,
    "start_time": "2024-03-25T11:34:55.693Z"
   },
   {
    "duration": 306,
    "start_time": "2024-03-25T11:34:56.315Z"
   },
   {
    "duration": 59,
    "start_time": "2024-03-25T11:34:56.623Z"
   },
   {
    "duration": 426,
    "start_time": "2024-03-25T11:34:56.684Z"
   },
   {
    "duration": 496,
    "start_time": "2024-03-25T11:34:57.111Z"
   },
   {
    "duration": 288,
    "start_time": "2024-03-25T11:34:57.609Z"
   },
   {
    "duration": 10,
    "start_time": "2024-03-25T11:34:57.898Z"
   },
   {
    "duration": 397,
    "start_time": "2024-03-25T11:34:57.910Z"
   },
   {
    "duration": 383,
    "start_time": "2024-03-25T11:34:58.308Z"
   },
   {
    "duration": 292,
    "start_time": "2024-03-25T11:34:58.693Z"
   },
   {
    "duration": 10,
    "start_time": "2024-03-25T11:34:58.986Z"
   },
   {
    "duration": 422,
    "start_time": "2024-03-25T11:34:58.997Z"
   },
   {
    "duration": 478,
    "start_time": "2024-03-25T11:34:59.420Z"
   },
   {
    "duration": 320,
    "start_time": "2024-03-25T11:34:59.900Z"
   },
   {
    "duration": 67,
    "start_time": "2024-03-25T11:35:00.223Z"
   },
   {
    "duration": 91,
    "start_time": "2024-03-25T11:35:00.292Z"
   },
   {
    "duration": 1499,
    "start_time": "2024-03-25T11:35:00.385Z"
   },
   {
    "duration": 3,
    "start_time": "2024-03-25T11:35:01.886Z"
   },
   {
    "duration": 114,
    "start_time": "2024-03-25T11:35:01.891Z"
   },
   {
    "duration": 79,
    "start_time": "2024-03-25T11:35:02.006Z"
   },
   {
    "duration": 38,
    "start_time": "2024-03-25T11:35:02.086Z"
   },
   {
    "duration": 61,
    "start_time": "2024-03-25T11:35:02.126Z"
   },
   {
    "duration": 56,
    "start_time": "2024-03-25T11:35:02.189Z"
   },
   {
    "duration": 39,
    "start_time": "2024-03-25T11:35:02.247Z"
   },
   {
    "duration": 57500,
    "start_time": "2024-03-25T11:35:02.289Z"
   },
   {
    "duration": 503,
    "start_time": "2024-03-25T11:35:59.790Z"
   },
   {
    "duration": 622,
    "start_time": "2024-03-25T11:43:30.081Z"
   },
   {
    "duration": 944,
    "start_time": "2024-03-25T11:44:34.983Z"
   },
   {
    "duration": 9,
    "start_time": "2024-03-25T11:45:32.286Z"
   },
   {
    "duration": 362,
    "start_time": "2024-03-25T11:45:46.736Z"
   },
   {
    "duration": 501,
    "start_time": "2024-03-25T11:46:03.903Z"
   },
   {
    "duration": 32767,
    "start_time": "2024-03-25T11:51:01.658Z"
   },
   {
    "duration": 304,
    "start_time": "2024-03-25T11:52:04.292Z"
   },
   {
    "duration": 824,
    "start_time": "2024-03-25T11:53:08.646Z"
   },
   {
    "duration": 329,
    "start_time": "2024-03-25T11:54:04.559Z"
   },
   {
    "duration": 651,
    "start_time": "2024-03-25T11:54:22.039Z"
   },
   {
    "duration": 506,
    "start_time": "2024-03-25T11:57:18.784Z"
   },
   {
    "duration": 1273,
    "start_time": "2024-03-25T12:05:51.246Z"
   },
   {
    "duration": 15294,
    "start_time": "2024-03-25T12:05:52.521Z"
   },
   {
    "duration": 8377,
    "start_time": "2024-03-25T12:06:07.817Z"
   },
   {
    "duration": 16,
    "start_time": "2024-03-25T12:06:16.196Z"
   },
   {
    "duration": 694,
    "start_time": "2024-03-25T12:06:16.214Z"
   },
   {
    "duration": 4477,
    "start_time": "2024-03-25T12:06:16.910Z"
   },
   {
    "duration": 400,
    "start_time": "2024-03-25T12:06:21.389Z"
   },
   {
    "duration": 4222,
    "start_time": "2024-03-25T12:06:21.791Z"
   },
   {
    "duration": 2988,
    "start_time": "2024-03-25T12:06:26.016Z"
   },
   {
    "duration": 5687,
    "start_time": "2024-03-25T12:06:29.007Z"
   },
   {
    "duration": 2156,
    "start_time": "2024-03-25T12:06:34.696Z"
   },
   {
    "duration": 1297,
    "start_time": "2024-03-25T12:06:36.853Z"
   },
   {
    "duration": 10,
    "start_time": "2024-03-25T12:06:38.152Z"
   },
   {
    "duration": 3823,
    "start_time": "2024-03-25T12:06:38.181Z"
   },
   {
    "duration": 2,
    "start_time": "2024-03-25T12:06:42.006Z"
   },
   {
    "duration": 392,
    "start_time": "2024-03-25T12:06:42.010Z"
   },
   {
    "duration": 607,
    "start_time": "2024-03-25T12:06:42.404Z"
   },
   {
    "duration": 294,
    "start_time": "2024-03-25T12:06:43.012Z"
   },
   {
    "duration": 13,
    "start_time": "2024-03-25T12:06:43.307Z"
   },
   {
    "duration": 472,
    "start_time": "2024-03-25T12:06:43.322Z"
   },
   {
    "duration": 493,
    "start_time": "2024-03-25T12:06:43.795Z"
   },
   {
    "duration": 285,
    "start_time": "2024-03-25T12:06:44.289Z"
   },
   {
    "duration": 12,
    "start_time": "2024-03-25T12:06:44.576Z"
   },
   {
    "duration": 420,
    "start_time": "2024-03-25T12:06:44.590Z"
   },
   {
    "duration": 481,
    "start_time": "2024-03-25T12:06:45.011Z"
   },
   {
    "duration": 276,
    "start_time": "2024-03-25T12:06:45.494Z"
   },
   {
    "duration": 14,
    "start_time": "2024-03-25T12:06:45.772Z"
   },
   {
    "duration": 352,
    "start_time": "2024-03-25T12:06:45.790Z"
   },
   {
    "duration": 447,
    "start_time": "2024-03-25T12:06:46.144Z"
   },
   {
    "duration": 309,
    "start_time": "2024-03-25T12:06:46.593Z"
   },
   {
    "duration": 8,
    "start_time": "2024-03-25T12:06:46.904Z"
   },
   {
    "duration": 71,
    "start_time": "2024-03-25T12:06:46.913Z"
   },
   {
    "duration": 1135,
    "start_time": "2024-03-25T12:06:46.986Z"
   },
   {
    "duration": 4,
    "start_time": "2024-03-25T12:06:48.181Z"
   },
   {
    "duration": 40,
    "start_time": "2024-03-25T12:06:48.187Z"
   },
   {
    "duration": 10,
    "start_time": "2024-03-25T12:06:48.229Z"
   },
   {
    "duration": 17,
    "start_time": "2024-03-25T12:06:48.241Z"
   },
   {
    "duration": 29,
    "start_time": "2024-03-25T12:06:48.259Z"
   },
   {
    "duration": 11,
    "start_time": "2024-03-25T12:06:48.290Z"
   },
   {
    "duration": 21,
    "start_time": "2024-03-25T12:06:48.303Z"
   },
   {
    "duration": 56995,
    "start_time": "2024-03-25T12:06:48.325Z"
   },
   {
    "duration": 488,
    "start_time": "2024-03-25T12:07:45.322Z"
   },
   {
    "duration": 1044,
    "start_time": "2024-03-25T12:07:45.812Z"
   },
   {
    "duration": 465,
    "start_time": "2024-03-25T12:07:46.882Z"
   },
   {
    "duration": 559,
    "start_time": "2024-03-25T12:07:47.349Z"
   },
   {
    "duration": 40810,
    "start_time": "2024-03-25T12:07:47.910Z"
   },
   {
    "duration": 308,
    "start_time": "2024-03-25T12:08:28.722Z"
   },
   {
    "duration": 984,
    "start_time": "2024-03-25T12:08:29.032Z"
   },
   {
    "duration": 453,
    "start_time": "2024-03-25T12:08:30.018Z"
   },
   {
    "duration": 416,
    "start_time": "2024-03-25T12:08:30.473Z"
   },
   {
    "duration": 317,
    "start_time": "2024-03-25T12:08:30.891Z"
   },
   {
    "duration": 52,
    "start_time": "2024-03-26T08:23:36.134Z"
   },
   {
    "duration": 1585,
    "start_time": "2024-03-26T08:23:50.809Z"
   },
   {
    "duration": 16968,
    "start_time": "2024-03-26T08:23:52.398Z"
   },
   {
    "duration": 9743,
    "start_time": "2024-03-26T08:24:09.369Z"
   },
   {
    "duration": 79,
    "start_time": "2024-03-26T08:24:19.114Z"
   },
   {
    "duration": 899,
    "start_time": "2024-03-26T08:24:19.196Z"
   },
   {
    "duration": 4895,
    "start_time": "2024-03-26T08:24:20.098Z"
   },
   {
    "duration": 505,
    "start_time": "2024-03-26T08:24:24.995Z"
   },
   {
    "duration": 4407,
    "start_time": "2024-03-26T08:24:25.502Z"
   },
   {
    "duration": 3529,
    "start_time": "2024-03-26T08:24:29.911Z"
   },
   {
    "duration": 6753,
    "start_time": "2024-03-26T08:24:33.442Z"
   },
   {
    "duration": 4131,
    "start_time": "2024-03-26T08:24:40.197Z"
   },
   {
    "duration": 2933,
    "start_time": "2024-03-26T08:24:44.330Z"
   },
   {
    "duration": 1357,
    "start_time": "2024-03-26T08:24:47.265Z"
   },
   {
    "duration": 10,
    "start_time": "2024-03-26T08:24:48.625Z"
   },
   {
    "duration": 4291,
    "start_time": "2024-03-26T08:24:48.637Z"
   },
   {
    "duration": 3,
    "start_time": "2024-03-26T08:24:52.931Z"
   },
   {
    "duration": 571,
    "start_time": "2024-03-26T08:24:52.935Z"
   },
   {
    "duration": 696,
    "start_time": "2024-03-26T08:24:53.507Z"
   },
   {
    "duration": 322,
    "start_time": "2024-03-26T08:24:54.205Z"
   },
   {
    "duration": 11,
    "start_time": "2024-03-26T08:24:54.593Z"
   },
   {
    "duration": 593,
    "start_time": "2024-03-26T08:24:54.606Z"
   },
   {
    "duration": 499,
    "start_time": "2024-03-26T08:24:55.201Z"
   },
   {
    "duration": 316,
    "start_time": "2024-03-26T08:24:55.702Z"
   },
   {
    "duration": 14,
    "start_time": "2024-03-26T08:24:56.020Z"
   },
   {
    "duration": 412,
    "start_time": "2024-03-26T08:24:56.036Z"
   },
   {
    "duration": 477,
    "start_time": "2024-03-26T08:24:56.449Z"
   },
   {
    "duration": 279,
    "start_time": "2024-03-26T08:24:56.928Z"
   },
   {
    "duration": 10,
    "start_time": "2024-03-26T08:24:57.209Z"
   },
   {
    "duration": 495,
    "start_time": "2024-03-26T08:24:57.221Z"
   },
   {
    "duration": 487,
    "start_time": "2024-03-26T08:24:57.718Z"
   },
   {
    "duration": 276,
    "start_time": "2024-03-26T08:24:58.207Z"
   },
   {
    "duration": 14,
    "start_time": "2024-03-26T08:24:58.485Z"
   },
   {
    "duration": 32,
    "start_time": "2024-03-26T08:24:58.501Z"
   },
   {
    "duration": 1113,
    "start_time": "2024-03-26T08:24:58.535Z"
   },
   {
    "duration": 43,
    "start_time": "2024-03-26T08:24:59.650Z"
   },
   {
    "duration": 56,
    "start_time": "2024-03-26T08:24:59.695Z"
   },
   {
    "duration": 49,
    "start_time": "2024-03-26T08:24:59.753Z"
   },
   {
    "duration": 16,
    "start_time": "2024-03-26T08:24:59.805Z"
   },
   {
    "duration": 22,
    "start_time": "2024-03-26T08:24:59.823Z"
   },
   {
    "duration": 11,
    "start_time": "2024-03-26T08:24:59.846Z"
   },
   {
    "duration": 7,
    "start_time": "2024-03-26T08:24:59.862Z"
   },
   {
    "duration": 66782,
    "start_time": "2024-03-26T08:24:59.871Z"
   },
   {
    "duration": 360,
    "start_time": "2024-03-26T08:26:06.656Z"
   },
   {
    "duration": 1273,
    "start_time": "2024-03-26T08:26:07.018Z"
   },
   {
    "duration": 428,
    "start_time": "2024-03-26T08:26:08.293Z"
   },
   {
    "duration": 604,
    "start_time": "2024-03-26T08:26:08.723Z"
   },
   {
    "duration": 46637,
    "start_time": "2024-03-26T08:26:09.329Z"
   },
   {
    "duration": 403,
    "start_time": "2024-03-26T08:26:55.992Z"
   },
   {
    "duration": 1027,
    "start_time": "2024-03-26T08:26:56.397Z"
   },
   {
    "duration": 398,
    "start_time": "2024-03-26T08:26:57.426Z"
   },
   {
    "duration": 608,
    "start_time": "2024-03-26T08:26:57.826Z"
   },
   {
    "duration": 351,
    "start_time": "2024-03-26T08:26:58.492Z"
   },
   {
    "duration": 363,
    "start_time": "2024-03-26T08:44:44.209Z"
   },
   {
    "duration": 1408,
    "start_time": "2024-03-26T08:48:54.655Z"
   },
   {
    "duration": 16659,
    "start_time": "2024-03-26T08:48:56.065Z"
   },
   {
    "duration": 10687,
    "start_time": "2024-03-26T08:49:12.727Z"
   },
   {
    "duration": 94,
    "start_time": "2024-03-26T08:49:23.417Z"
   },
   {
    "duration": 893,
    "start_time": "2024-03-26T08:49:23.513Z"
   },
   {
    "duration": 5712,
    "start_time": "2024-03-26T08:49:24.408Z"
   },
   {
    "duration": 589,
    "start_time": "2024-03-26T08:49:30.122Z"
   },
   {
    "duration": 4910,
    "start_time": "2024-03-26T08:49:30.713Z"
   },
   {
    "duration": 3585,
    "start_time": "2024-03-26T08:49:35.625Z"
   },
   {
    "duration": 3,
    "start_time": "2024-03-26T08:49:39.215Z"
   },
   {
    "duration": 7001,
    "start_time": "2024-03-26T08:49:39.221Z"
   },
   {
    "duration": 931,
    "start_time": "2024-03-26T08:49:46.293Z"
   },
   {
    "duration": 3503,
    "start_time": "2024-03-26T08:49:47.226Z"
   },
   {
    "duration": 1520,
    "start_time": "2024-03-26T08:49:50.731Z"
   },
   {
    "duration": 48,
    "start_time": "2024-03-26T08:49:52.253Z"
   },
   {
    "duration": 5246,
    "start_time": "2024-03-26T08:49:52.305Z"
   },
   {
    "duration": 3,
    "start_time": "2024-03-26T08:49:57.553Z"
   },
   {
    "duration": 456,
    "start_time": "2024-03-26T08:49:57.558Z"
   },
   {
    "duration": 512,
    "start_time": "2024-03-26T08:49:58.016Z"
   },
   {
    "duration": 469,
    "start_time": "2024-03-26T08:49:58.530Z"
   },
   {
    "duration": 18,
    "start_time": "2024-03-26T08:49:59.000Z"
   },
   {
    "duration": 588,
    "start_time": "2024-03-26T08:49:59.020Z"
   },
   {
    "duration": 519,
    "start_time": "2024-03-26T08:49:59.610Z"
   },
   {
    "duration": 481,
    "start_time": "2024-03-26T08:50:00.132Z"
   },
   {
    "duration": 9,
    "start_time": "2024-03-26T08:50:00.615Z"
   },
   {
    "duration": 873,
    "start_time": "2024-03-26T08:50:00.626Z"
   },
   {
    "duration": 592,
    "start_time": "2024-03-26T08:50:01.503Z"
   },
   {
    "duration": 342,
    "start_time": "2024-03-26T08:50:02.109Z"
   },
   {
    "duration": 41,
    "start_time": "2024-03-26T08:50:02.453Z"
   },
   {
    "duration": 551,
    "start_time": "2024-03-26T08:50:02.497Z"
   },
   {
    "duration": 368,
    "start_time": "2024-03-26T08:50:03.050Z"
   },
   {
    "duration": 396,
    "start_time": "2024-03-26T08:50:03.421Z"
   },
   {
    "duration": 9,
    "start_time": "2024-03-26T08:50:03.819Z"
   },
   {
    "duration": 53,
    "start_time": "2024-03-26T08:50:03.829Z"
   },
   {
    "duration": 1638,
    "start_time": "2024-03-26T08:50:03.884Z"
   },
   {
    "duration": 3,
    "start_time": "2024-03-26T08:50:05.524Z"
   },
   {
    "duration": 106,
    "start_time": "2024-03-26T08:50:05.529Z"
   },
   {
    "duration": 79,
    "start_time": "2024-03-26T08:50:05.638Z"
   },
   {
    "duration": 16,
    "start_time": "2024-03-26T08:50:05.720Z"
   },
   {
    "duration": 69,
    "start_time": "2024-03-26T08:50:05.738Z"
   },
   {
    "duration": 11,
    "start_time": "2024-03-26T08:50:05.809Z"
   },
   {
    "duration": 15,
    "start_time": "2024-03-26T08:50:05.823Z"
   },
   {
    "duration": 68248,
    "start_time": "2024-03-26T08:50:05.841Z"
   },
   {
    "duration": 636,
    "start_time": "2024-03-26T08:51:14.093Z"
   },
   {
    "duration": 1307,
    "start_time": "2024-03-26T08:51:14.732Z"
   },
   {
    "duration": 900,
    "start_time": "2024-03-26T08:51:16.041Z"
   },
   {
    "duration": 771,
    "start_time": "2024-03-26T08:51:16.944Z"
   },
   {
    "duration": 45891,
    "start_time": "2024-03-26T08:51:17.717Z"
   },
   {
    "duration": 0,
    "start_time": "2024-03-26T08:52:03.610Z"
   },
   {
    "duration": 0,
    "start_time": "2024-03-26T08:52:03.611Z"
   },
   {
    "duration": 0,
    "start_time": "2024-03-26T08:52:03.614Z"
   },
   {
    "duration": 0,
    "start_time": "2024-03-26T08:52:03.615Z"
   },
   {
    "duration": 0,
    "start_time": "2024-03-26T08:52:03.616Z"
   },
   {
    "duration": 0,
    "start_time": "2024-03-26T08:52:03.618Z"
   },
   {
    "duration": 1430,
    "start_time": "2024-03-26T08:52:13.108Z"
   },
   {
    "duration": 17259,
    "start_time": "2024-03-26T08:52:14.540Z"
   },
   {
    "duration": 11219,
    "start_time": "2024-03-26T08:52:31.802Z"
   },
   {
    "duration": 86,
    "start_time": "2024-03-26T08:52:43.024Z"
   },
   {
    "duration": 809,
    "start_time": "2024-03-26T08:52:43.112Z"
   },
   {
    "duration": 5528,
    "start_time": "2024-03-26T08:52:43.994Z"
   },
   {
    "duration": 578,
    "start_time": "2024-03-26T08:52:49.524Z"
   },
   {
    "duration": 4807,
    "start_time": "2024-03-26T08:52:50.103Z"
   },
   {
    "duration": 3381,
    "start_time": "2024-03-26T08:52:54.912Z"
   },
   {
    "duration": 3,
    "start_time": "2024-03-26T08:52:58.298Z"
   },
   {
    "duration": 7618,
    "start_time": "2024-03-26T08:52:58.303Z"
   },
   {
    "duration": 1015,
    "start_time": "2024-03-26T08:53:05.992Z"
   },
   {
    "duration": 1606,
    "start_time": "2024-03-26T08:53:07.009Z"
   },
   {
    "duration": 2749,
    "start_time": "2024-03-26T08:53:08.618Z"
   },
   {
    "duration": 1539,
    "start_time": "2024-03-26T08:53:11.369Z"
   },
   {
    "duration": 10,
    "start_time": "2024-03-26T08:53:12.910Z"
   },
   {
    "duration": 4947,
    "start_time": "2024-03-26T08:53:12.922Z"
   },
   {
    "duration": 3,
    "start_time": "2024-03-26T08:53:17.871Z"
   },
   {
    "duration": 449,
    "start_time": "2024-03-26T08:53:17.875Z"
   },
   {
    "duration": 502,
    "start_time": "2024-03-26T08:53:18.326Z"
   },
   {
    "duration": 385,
    "start_time": "2024-03-26T08:53:18.830Z"
   },
   {
    "duration": 9,
    "start_time": "2024-03-26T08:53:19.217Z"
   },
   {
    "duration": 576,
    "start_time": "2024-03-26T08:53:19.227Z"
   },
   {
    "duration": 508,
    "start_time": "2024-03-26T08:53:19.808Z"
   },
   {
    "duration": 406,
    "start_time": "2024-03-26T08:53:20.318Z"
   },
   {
    "duration": 74,
    "start_time": "2024-03-26T08:53:20.726Z"
   },
   {
    "duration": 518,
    "start_time": "2024-03-26T08:53:20.809Z"
   },
   {
    "duration": 405,
    "start_time": "2024-03-26T08:53:21.331Z"
   },
   {
    "duration": 381,
    "start_time": "2024-03-26T08:53:21.738Z"
   },
   {
    "duration": 10,
    "start_time": "2024-03-26T08:53:22.121Z"
   },
   {
    "duration": 591,
    "start_time": "2024-03-26T08:53:22.133Z"
   },
   {
    "duration": 607,
    "start_time": "2024-03-26T08:53:22.726Z"
   },
   {
    "duration": 441,
    "start_time": "2024-03-26T08:53:23.392Z"
   },
   {
    "duration": 15,
    "start_time": "2024-03-26T08:53:23.891Z"
   },
   {
    "duration": 7,
    "start_time": "2024-03-26T08:53:23.909Z"
   },
   {
    "duration": 1584,
    "start_time": "2024-03-26T08:53:23.918Z"
   },
   {
    "duration": 8,
    "start_time": "2024-03-26T08:53:25.503Z"
   },
   {
    "duration": 97,
    "start_time": "2024-03-26T08:53:25.513Z"
   },
   {
    "duration": 15,
    "start_time": "2024-03-26T08:53:25.612Z"
   },
   {
    "duration": 13,
    "start_time": "2024-03-26T08:53:25.629Z"
   },
   {
    "duration": 57,
    "start_time": "2024-03-26T08:53:25.645Z"
   },
   {
    "duration": 10,
    "start_time": "2024-03-26T08:53:25.706Z"
   },
   {
    "duration": 31,
    "start_time": "2024-03-26T08:53:25.718Z"
   },
   {
    "duration": 73065,
    "start_time": "2024-03-26T08:53:25.751Z"
   },
   {
    "duration": 588,
    "start_time": "2024-03-26T08:54:38.817Z"
   },
   {
    "duration": 1490,
    "start_time": "2024-03-26T08:54:39.407Z"
   },
   {
    "duration": 554,
    "start_time": "2024-03-26T08:54:40.898Z"
   },
   {
    "duration": 872,
    "start_time": "2024-03-26T08:54:41.455Z"
   },
   {
    "duration": 41505,
    "start_time": "2024-03-26T08:54:42.329Z"
   },
   {
    "duration": 474,
    "start_time": "2024-03-26T08:55:23.836Z"
   },
   {
    "duration": 1181,
    "start_time": "2024-03-26T08:55:24.313Z"
   },
   {
    "duration": 433,
    "start_time": "2024-03-26T08:55:25.496Z"
   },
   {
    "duration": 889,
    "start_time": "2024-03-26T08:55:25.931Z"
   },
   {
    "duration": 314,
    "start_time": "2024-03-26T08:55:26.822Z"
   },
   {
    "duration": 1638,
    "start_time": "2024-03-26T10:42:10.771Z"
   },
   {
    "duration": 16500,
    "start_time": "2024-03-26T10:42:12.412Z"
   },
   {
    "duration": 9900,
    "start_time": "2024-03-26T10:42:28.915Z"
   },
   {
    "duration": 91,
    "start_time": "2024-03-26T10:42:38.818Z"
   },
   {
    "duration": 902,
    "start_time": "2024-03-26T10:42:38.912Z"
   },
   {
    "duration": 5213,
    "start_time": "2024-03-26T10:42:39.817Z"
   },
   {
    "duration": 479,
    "start_time": "2024-03-26T10:42:45.031Z"
   },
   {
    "duration": 4798,
    "start_time": "2024-03-26T10:42:45.513Z"
   },
   {
    "duration": 3787,
    "start_time": "2024-03-26T10:42:50.313Z"
   },
   {
    "duration": 3,
    "start_time": "2024-03-26T10:42:54.102Z"
   },
   {
    "duration": 6789,
    "start_time": "2024-03-26T10:42:54.107Z"
   },
   {
    "duration": 903,
    "start_time": "2024-03-26T10:43:00.899Z"
   },
   {
    "duration": 1425,
    "start_time": "2024-03-26T10:43:01.804Z"
   },
   {
    "duration": 2328,
    "start_time": "2024-03-26T10:43:03.291Z"
   },
   {
    "duration": 1496,
    "start_time": "2024-03-26T10:43:05.621Z"
   },
   {
    "duration": 9,
    "start_time": "2024-03-26T10:43:07.119Z"
   },
   {
    "duration": 4962,
    "start_time": "2024-03-26T10:43:07.131Z"
   },
   {
    "duration": 4,
    "start_time": "2024-03-26T10:43:12.095Z"
   },
   {
    "duration": 393,
    "start_time": "2024-03-26T10:43:12.100Z"
   },
   {
    "duration": 427,
    "start_time": "2024-03-26T10:43:12.494Z"
   },
   {
    "duration": 371,
    "start_time": "2024-03-26T10:43:12.923Z"
   },
   {
    "duration": 9,
    "start_time": "2024-03-26T10:43:13.296Z"
   },
   {
    "duration": 419,
    "start_time": "2024-03-26T10:43:13.307Z"
   },
   {
    "duration": 410,
    "start_time": "2024-03-26T10:43:13.728Z"
   },
   {
    "duration": 297,
    "start_time": "2024-03-26T10:43:14.139Z"
   },
   {
    "duration": 54,
    "start_time": "2024-03-26T10:43:14.438Z"
   },
   {
    "duration": 421,
    "start_time": "2024-03-26T10:43:14.494Z"
   },
   {
    "duration": 480,
    "start_time": "2024-03-26T10:43:14.917Z"
   },
   {
    "duration": 404,
    "start_time": "2024-03-26T10:43:15.399Z"
   },
   {
    "duration": 9,
    "start_time": "2024-03-26T10:43:15.805Z"
   },
   {
    "duration": 504,
    "start_time": "2024-03-26T10:43:15.817Z"
   },
   {
    "duration": 405,
    "start_time": "2024-03-26T10:43:16.323Z"
   },
   {
    "duration": 464,
    "start_time": "2024-03-26T10:43:16.729Z"
   },
   {
    "duration": 9,
    "start_time": "2024-03-26T10:43:17.195Z"
   },
   {
    "duration": 12,
    "start_time": "2024-03-26T10:43:17.206Z"
   },
   {
    "duration": 1672,
    "start_time": "2024-03-26T10:43:17.220Z"
   },
   {
    "duration": 4,
    "start_time": "2024-03-26T10:43:18.894Z"
   },
   {
    "duration": 99,
    "start_time": "2024-03-26T10:43:18.901Z"
   },
   {
    "duration": 13,
    "start_time": "2024-03-26T10:43:19.002Z"
   },
   {
    "duration": 12,
    "start_time": "2024-03-26T10:43:19.017Z"
   },
   {
    "duration": 10,
    "start_time": "2024-03-26T10:43:19.034Z"
   },
   {
    "duration": 9,
    "start_time": "2024-03-26T10:43:19.045Z"
   },
   {
    "duration": 9,
    "start_time": "2024-03-26T10:43:19.093Z"
   },
   {
    "duration": 71946,
    "start_time": "2024-03-26T10:43:19.104Z"
   },
   {
    "duration": 564,
    "start_time": "2024-03-26T10:44:31.052Z"
   },
   {
    "duration": 1392,
    "start_time": "2024-03-26T10:44:31.618Z"
   },
   {
    "duration": 604,
    "start_time": "2024-03-26T10:44:33.012Z"
   },
   {
    "duration": 707,
    "start_time": "2024-03-26T10:44:33.618Z"
   },
   {
    "duration": 43986,
    "start_time": "2024-03-26T10:44:34.326Z"
   },
   {
    "duration": 397,
    "start_time": "2024-03-26T10:45:18.314Z"
   },
   {
    "duration": 1158,
    "start_time": "2024-03-26T10:45:18.713Z"
   },
   {
    "duration": 649,
    "start_time": "2024-03-26T10:45:19.873Z"
   },
   {
    "duration": 669,
    "start_time": "2024-03-26T10:45:20.524Z"
   },
   {
    "duration": 543,
    "start_time": "2024-03-26T10:45:21.196Z"
   },
   {
    "duration": 1420,
    "start_time": "2024-03-26T11:04:46.530Z"
   },
   {
    "duration": 14847,
    "start_time": "2024-03-26T11:04:47.952Z"
   },
   {
    "duration": 7967,
    "start_time": "2024-03-26T11:05:02.801Z"
   },
   {
    "duration": 14,
    "start_time": "2024-03-26T11:05:10.771Z"
   },
   {
    "duration": 772,
    "start_time": "2024-03-26T11:05:10.787Z"
   },
   {
    "duration": 4017,
    "start_time": "2024-03-26T11:05:11.561Z"
   },
   {
    "duration": 401,
    "start_time": "2024-03-26T11:05:15.580Z"
   },
   {
    "duration": 3450,
    "start_time": "2024-03-26T11:05:15.983Z"
   },
   {
    "duration": 2753,
    "start_time": "2024-03-26T11:05:19.435Z"
   },
   {
    "duration": 2,
    "start_time": "2024-03-26T11:05:22.191Z"
   },
   {
    "duration": 5476,
    "start_time": "2024-03-26T11:05:22.195Z"
   },
   {
    "duration": 697,
    "start_time": "2024-03-26T11:05:27.673Z"
   },
   {
    "duration": 1218,
    "start_time": "2024-03-26T11:05:28.371Z"
   },
   {
    "duration": 2852,
    "start_time": "2024-03-26T11:05:29.591Z"
   },
   {
    "duration": 1428,
    "start_time": "2024-03-26T11:05:32.444Z"
   },
   {
    "duration": 10,
    "start_time": "2024-03-26T11:05:33.873Z"
   },
   {
    "duration": 3984,
    "start_time": "2024-03-26T11:05:33.886Z"
   },
   {
    "duration": 2,
    "start_time": "2024-03-26T11:05:37.871Z"
   },
   {
    "duration": 313,
    "start_time": "2024-03-26T11:05:37.875Z"
   },
   {
    "duration": 496,
    "start_time": "2024-03-26T11:05:38.189Z"
   },
   {
    "duration": 292,
    "start_time": "2024-03-26T11:05:38.687Z"
   },
   {
    "duration": 7,
    "start_time": "2024-03-26T11:05:38.980Z"
   },
   {
    "duration": 303,
    "start_time": "2024-03-26T11:05:38.988Z"
   },
   {
    "duration": 383,
    "start_time": "2024-03-26T11:05:39.292Z"
   },
   {
    "duration": 296,
    "start_time": "2024-03-26T11:05:39.678Z"
   },
   {
    "duration": 9,
    "start_time": "2024-03-26T11:05:39.975Z"
   },
   {
    "duration": 405,
    "start_time": "2024-03-26T11:05:39.985Z"
   },
   {
    "duration": 392,
    "start_time": "2024-03-26T11:05:40.393Z"
   },
   {
    "duration": 279,
    "start_time": "2024-03-26T11:05:40.786Z"
   },
   {
    "duration": 8,
    "start_time": "2024-03-26T11:05:41.067Z"
   },
   {
    "duration": 499,
    "start_time": "2024-03-26T11:05:41.076Z"
   },
   {
    "duration": 311,
    "start_time": "2024-03-26T11:05:41.577Z"
   },
   {
    "duration": 327,
    "start_time": "2024-03-26T11:05:41.889Z"
   },
   {
    "duration": 47,
    "start_time": "2024-03-26T11:05:42.217Z"
   },
   {
    "duration": 11,
    "start_time": "2024-03-26T11:05:42.266Z"
   },
   {
    "duration": 1208,
    "start_time": "2024-03-26T11:05:42.278Z"
   },
   {
    "duration": 3,
    "start_time": "2024-03-26T11:05:43.488Z"
   },
   {
    "duration": 95,
    "start_time": "2024-03-26T11:05:43.492Z"
   },
   {
    "duration": 10,
    "start_time": "2024-03-26T11:05:43.589Z"
   },
   {
    "duration": 19,
    "start_time": "2024-03-26T11:05:43.658Z"
   },
   {
    "duration": 23,
    "start_time": "2024-03-26T11:05:43.679Z"
   },
   {
    "duration": 7,
    "start_time": "2024-03-26T11:05:43.704Z"
   },
   {
    "duration": 11,
    "start_time": "2024-03-26T11:05:43.713Z"
   },
   {
    "duration": 55540,
    "start_time": "2024-03-26T11:05:43.759Z"
   },
   {
    "duration": 459,
    "start_time": "2024-03-26T11:06:39.301Z"
   },
   {
    "duration": 1217,
    "start_time": "2024-03-26T11:06:39.762Z"
   },
   {
    "duration": 590,
    "start_time": "2024-03-26T11:06:40.980Z"
   },
   {
    "duration": 711,
    "start_time": "2024-03-26T11:06:41.572Z"
   },
   {
    "duration": 31495,
    "start_time": "2024-03-26T11:06:42.285Z"
   },
   {
    "duration": 296,
    "start_time": "2024-03-26T11:07:13.782Z"
   },
   {
    "duration": 936,
    "start_time": "2024-03-26T11:07:14.079Z"
   },
   {
    "duration": 434,
    "start_time": "2024-03-26T11:07:15.017Z"
   },
   {
    "duration": 365,
    "start_time": "2024-03-26T11:07:15.452Z"
   },
   {
    "duration": 651,
    "start_time": "2024-03-26T11:07:15.819Z"
   },
   {
    "duration": 1173,
    "start_time": "2024-03-26T11:10:34.702Z"
   },
   {
    "duration": 14782,
    "start_time": "2024-03-26T11:10:35.877Z"
   },
   {
    "duration": 7954,
    "start_time": "2024-03-26T11:10:50.661Z"
   },
   {
    "duration": 18,
    "start_time": "2024-03-26T11:10:58.660Z"
   },
   {
    "duration": 693,
    "start_time": "2024-03-26T11:10:58.680Z"
   },
   {
    "duration": 4100,
    "start_time": "2024-03-26T11:10:59.375Z"
   },
   {
    "duration": 482,
    "start_time": "2024-03-26T11:11:03.477Z"
   },
   {
    "duration": 3700,
    "start_time": "2024-03-26T11:11:03.961Z"
   },
   {
    "duration": 2809,
    "start_time": "2024-03-26T11:11:07.663Z"
   },
   {
    "duration": 3,
    "start_time": "2024-03-26T11:11:10.475Z"
   },
   {
    "duration": 5410,
    "start_time": "2024-03-26T11:11:10.480Z"
   },
   {
    "duration": 691,
    "start_time": "2024-03-26T11:11:15.893Z"
   },
   {
    "duration": 1201,
    "start_time": "2024-03-26T11:11:16.585Z"
   },
   {
    "duration": 2161,
    "start_time": "2024-03-26T11:11:17.787Z"
   },
   {
    "duration": 1365,
    "start_time": "2024-03-26T11:11:19.950Z"
   },
   {
    "duration": 8,
    "start_time": "2024-03-26T11:11:21.317Z"
   },
   {
    "duration": 3699,
    "start_time": "2024-03-26T11:11:21.327Z"
   },
   {
    "duration": 2,
    "start_time": "2024-03-26T11:11:25.028Z"
   },
   {
    "duration": 445,
    "start_time": "2024-03-26T11:11:25.031Z"
   },
   {
    "duration": 481,
    "start_time": "2024-03-26T11:11:25.478Z"
   },
   {
    "duration": 304,
    "start_time": "2024-03-26T11:11:25.961Z"
   },
   {
    "duration": 7,
    "start_time": "2024-03-26T11:11:26.267Z"
   },
   {
    "duration": 321,
    "start_time": "2024-03-26T11:11:26.275Z"
   },
   {
    "duration": 369,
    "start_time": "2024-03-26T11:11:26.598Z"
   },
   {
    "duration": 262,
    "start_time": "2024-03-26T11:11:26.969Z"
   },
   {
    "duration": 32,
    "start_time": "2024-03-26T11:11:27.233Z"
   },
   {
    "duration": 416,
    "start_time": "2024-03-26T11:11:27.267Z"
   },
   {
    "duration": 397,
    "start_time": "2024-03-26T11:11:27.687Z"
   },
   {
    "duration": 311,
    "start_time": "2024-03-26T11:11:28.086Z"
   },
   {
    "duration": 9,
    "start_time": "2024-03-26T11:11:28.398Z"
   },
   {
    "duration": 467,
    "start_time": "2024-03-26T11:11:28.409Z"
   },
   {
    "duration": 389,
    "start_time": "2024-03-26T11:11:28.878Z"
   },
   {
    "duration": 332,
    "start_time": "2024-03-26T11:11:29.268Z"
   },
   {
    "duration": 60,
    "start_time": "2024-03-26T11:11:29.602Z"
   },
   {
    "duration": 4,
    "start_time": "2024-03-26T11:11:29.663Z"
   },
   {
    "duration": 1214,
    "start_time": "2024-03-26T11:11:29.668Z"
   },
   {
    "duration": 2,
    "start_time": "2024-03-26T11:11:30.884Z"
   },
   {
    "duration": 101,
    "start_time": "2024-03-26T11:11:30.888Z"
   },
   {
    "duration": 65,
    "start_time": "2024-03-26T11:11:30.991Z"
   },
   {
    "duration": 131,
    "start_time": "2024-03-26T11:11:31.058Z"
   },
   {
    "duration": 100,
    "start_time": "2024-03-26T11:11:31.191Z"
   },
   {
    "duration": 265,
    "start_time": "2024-03-26T11:11:31.293Z"
   },
   {
    "duration": 261,
    "start_time": "2024-03-26T11:11:31.560Z"
   },
   {
    "duration": 53792,
    "start_time": "2024-03-26T11:11:31.822Z"
   },
   {
    "duration": 487,
    "start_time": "2024-03-26T11:12:25.615Z"
   },
   {
    "duration": 1131,
    "start_time": "2024-03-26T11:12:26.104Z"
   },
   {
    "duration": 447,
    "start_time": "2024-03-26T11:12:27.237Z"
   },
   {
    "duration": 717,
    "start_time": "2024-03-26T11:12:27.686Z"
   },
   {
    "duration": 6,
    "start_time": "2024-03-26T11:12:28.405Z"
   },
   {
    "duration": 23835,
    "start_time": "2024-03-26T11:12:28.412Z"
   },
   {
    "duration": 0,
    "start_time": "2024-03-26T11:12:52.249Z"
   },
   {
    "duration": 0,
    "start_time": "2024-03-26T11:12:52.250Z"
   },
   {
    "duration": 0,
    "start_time": "2024-03-26T11:12:52.258Z"
   },
   {
    "duration": 0,
    "start_time": "2024-03-26T11:12:52.259Z"
   },
   {
    "duration": 0,
    "start_time": "2024-03-26T11:12:52.260Z"
   },
   {
    "duration": 5,
    "start_time": "2024-03-26T11:16:11.393Z"
   },
   {
    "duration": 21083,
    "start_time": "2024-03-26T11:16:12.182Z"
   },
   {
    "duration": 395,
    "start_time": "2024-03-26T11:17:11.497Z"
   },
   {
    "duration": 937,
    "start_time": "2024-03-26T11:17:18.936Z"
   },
   {
    "duration": 281,
    "start_time": "2024-03-26T11:17:31.079Z"
   },
   {
    "duration": 499,
    "start_time": "2024-03-26T11:17:32.660Z"
   },
   {
    "duration": 426,
    "start_time": "2024-03-26T11:17:39.143Z"
   },
   {
    "duration": 15,
    "start_time": "2024-03-26T11:21:43.109Z"
   },
   {
    "duration": 1224,
    "start_time": "2024-03-26T11:22:00.167Z"
   },
   {
    "duration": 14992,
    "start_time": "2024-03-26T11:22:01.393Z"
   },
   {
    "duration": 7494,
    "start_time": "2024-03-26T11:22:16.387Z"
   },
   {
    "duration": 79,
    "start_time": "2024-03-26T11:22:23.884Z"
   },
   {
    "duration": 531,
    "start_time": "2024-03-26T11:22:23.965Z"
   },
   {
    "duration": 4039,
    "start_time": "2024-03-26T11:22:24.558Z"
   },
   {
    "duration": 461,
    "start_time": "2024-03-26T11:22:28.599Z"
   },
   {
    "duration": 3846,
    "start_time": "2024-03-26T11:22:29.062Z"
   },
   {
    "duration": 2891,
    "start_time": "2024-03-26T11:22:32.910Z"
   },
   {
    "duration": 2,
    "start_time": "2024-03-26T11:22:35.804Z"
   },
   {
    "duration": 5416,
    "start_time": "2024-03-26T11:22:35.859Z"
   },
   {
    "duration": 695,
    "start_time": "2024-03-26T11:22:41.276Z"
   },
   {
    "duration": 1215,
    "start_time": "2024-03-26T11:22:41.973Z"
   },
   {
    "duration": 1890,
    "start_time": "2024-03-26T11:22:43.190Z"
   },
   {
    "duration": 106,
    "start_time": "2024-03-26T11:22:45.082Z"
   },
   {
    "duration": 0,
    "start_time": "2024-03-26T11:22:45.191Z"
   },
   {
    "duration": 0,
    "start_time": "2024-03-26T11:22:45.192Z"
   },
   {
    "duration": 0,
    "start_time": "2024-03-26T11:22:45.194Z"
   },
   {
    "duration": 0,
    "start_time": "2024-03-26T11:22:45.195Z"
   },
   {
    "duration": 0,
    "start_time": "2024-03-26T11:22:45.197Z"
   },
   {
    "duration": 0,
    "start_time": "2024-03-26T11:22:45.198Z"
   },
   {
    "duration": 0,
    "start_time": "2024-03-26T11:22:45.200Z"
   },
   {
    "duration": 0,
    "start_time": "2024-03-26T11:22:45.201Z"
   },
   {
    "duration": 0,
    "start_time": "2024-03-26T11:22:45.203Z"
   },
   {
    "duration": 0,
    "start_time": "2024-03-26T11:22:45.204Z"
   },
   {
    "duration": 0,
    "start_time": "2024-03-26T11:22:45.205Z"
   },
   {
    "duration": 0,
    "start_time": "2024-03-26T11:22:45.207Z"
   },
   {
    "duration": 0,
    "start_time": "2024-03-26T11:22:45.208Z"
   },
   {
    "duration": 0,
    "start_time": "2024-03-26T11:22:45.210Z"
   },
   {
    "duration": 0,
    "start_time": "2024-03-26T11:22:45.211Z"
   },
   {
    "duration": 0,
    "start_time": "2024-03-26T11:22:45.212Z"
   },
   {
    "duration": 0,
    "start_time": "2024-03-26T11:22:45.214Z"
   },
   {
    "duration": 0,
    "start_time": "2024-03-26T11:22:45.215Z"
   },
   {
    "duration": 0,
    "start_time": "2024-03-26T11:22:45.216Z"
   },
   {
    "duration": 0,
    "start_time": "2024-03-26T11:22:45.217Z"
   },
   {
    "duration": 0,
    "start_time": "2024-03-26T11:22:45.258Z"
   },
   {
    "duration": 0,
    "start_time": "2024-03-26T11:22:45.260Z"
   },
   {
    "duration": 0,
    "start_time": "2024-03-26T11:22:45.261Z"
   },
   {
    "duration": 0,
    "start_time": "2024-03-26T11:22:45.262Z"
   },
   {
    "duration": 0,
    "start_time": "2024-03-26T11:22:45.263Z"
   },
   {
    "duration": 0,
    "start_time": "2024-03-26T11:22:45.264Z"
   },
   {
    "duration": 0,
    "start_time": "2024-03-26T11:22:45.265Z"
   },
   {
    "duration": 0,
    "start_time": "2024-03-26T11:22:45.266Z"
   },
   {
    "duration": 0,
    "start_time": "2024-03-26T11:22:45.267Z"
   },
   {
    "duration": 0,
    "start_time": "2024-03-26T11:22:45.268Z"
   },
   {
    "duration": 0,
    "start_time": "2024-03-26T11:22:45.269Z"
   },
   {
    "duration": 0,
    "start_time": "2024-03-26T11:22:45.270Z"
   },
   {
    "duration": 0,
    "start_time": "2024-03-26T11:22:45.271Z"
   },
   {
    "duration": 0,
    "start_time": "2024-03-26T11:22:45.272Z"
   },
   {
    "duration": 0,
    "start_time": "2024-03-26T11:22:45.273Z"
   },
   {
    "duration": 0,
    "start_time": "2024-03-26T11:22:45.274Z"
   },
   {
    "duration": 0,
    "start_time": "2024-03-26T11:22:45.275Z"
   },
   {
    "duration": 0,
    "start_time": "2024-03-26T11:22:45.276Z"
   },
   {
    "duration": 0,
    "start_time": "2024-03-26T11:22:45.277Z"
   },
   {
    "duration": 0,
    "start_time": "2024-03-26T11:22:45.278Z"
   },
   {
    "duration": 0,
    "start_time": "2024-03-26T11:22:45.279Z"
   },
   {
    "duration": 11,
    "start_time": "2024-03-26T11:26:04.336Z"
   },
   {
    "duration": 1686,
    "start_time": "2024-03-26T11:26:28.910Z"
   },
   {
    "duration": 1175,
    "start_time": "2024-03-26T11:26:37.965Z"
   },
   {
    "duration": 9,
    "start_time": "2024-03-26T11:27:07.652Z"
   },
   {
    "duration": 4678,
    "start_time": "2024-03-26T11:27:43.889Z"
   },
   {
    "duration": 4422,
    "start_time": "2024-03-26T11:28:02.438Z"
   },
   {
    "duration": 4,
    "start_time": "2024-03-26T11:28:31.374Z"
   },
   {
    "duration": 348,
    "start_time": "2024-03-26T11:28:41.344Z"
   },
   {
    "duration": 339,
    "start_time": "2024-03-26T11:28:48.020Z"
   },
   {
    "duration": 210,
    "start_time": "2024-03-26T11:28:49.150Z"
   },
   {
    "duration": 7,
    "start_time": "2024-03-26T11:28:50.288Z"
   },
   {
    "duration": 254,
    "start_time": "2024-03-26T11:28:53.971Z"
   },
   {
    "duration": 375,
    "start_time": "2024-03-26T11:28:55.113Z"
   },
   {
    "duration": 224,
    "start_time": "2024-03-26T11:28:57.035Z"
   },
   {
    "duration": 9,
    "start_time": "2024-03-26T11:28:57.549Z"
   },
   {
    "duration": 339,
    "start_time": "2024-03-26T11:29:01.828Z"
   },
   {
    "duration": 263,
    "start_time": "2024-03-26T11:29:02.404Z"
   },
   {
    "duration": 166,
    "start_time": "2024-03-26T11:29:03.103Z"
   },
   {
    "duration": 6,
    "start_time": "2024-03-26T11:29:03.745Z"
   },
   {
    "duration": 297,
    "start_time": "2024-03-26T11:29:07.028Z"
   },
   {
    "duration": 325,
    "start_time": "2024-03-26T11:29:08.355Z"
   },
   {
    "duration": 224,
    "start_time": "2024-03-26T11:29:11.035Z"
   },
   {
    "duration": 8,
    "start_time": "2024-03-26T11:29:12.178Z"
   },
   {
    "duration": 7,
    "start_time": "2024-03-26T11:29:13.150Z"
   },
   {
    "duration": 1190,
    "start_time": "2024-03-26T11:50:47.705Z"
   },
   {
    "duration": 14965,
    "start_time": "2024-03-26T11:50:48.897Z"
   },
   {
    "duration": 7959,
    "start_time": "2024-03-26T11:51:03.864Z"
   },
   {
    "duration": 47,
    "start_time": "2024-03-26T11:51:11.825Z"
   },
   {
    "duration": 687,
    "start_time": "2024-03-26T11:51:11.873Z"
   },
   {
    "duration": 3833,
    "start_time": "2024-03-26T11:51:12.562Z"
   },
   {
    "duration": 470,
    "start_time": "2024-03-26T11:51:16.396Z"
   },
   {
    "duration": 3812,
    "start_time": "2024-03-26T11:51:16.867Z"
   },
   {
    "duration": 3100,
    "start_time": "2024-03-26T11:51:20.681Z"
   },
   {
    "duration": 2,
    "start_time": "2024-03-26T11:51:23.784Z"
   },
   {
    "duration": 5399,
    "start_time": "2024-03-26T11:51:23.788Z"
   },
   {
    "duration": 782,
    "start_time": "2024-03-26T11:51:29.189Z"
   },
   {
    "duration": 1175,
    "start_time": "2024-03-26T11:51:29.974Z"
   },
   {
    "duration": 1980,
    "start_time": "2024-03-26T11:51:31.151Z"
   },
   {
    "duration": 2130,
    "start_time": "2024-03-26T11:51:33.132Z"
   },
   {
    "duration": 8,
    "start_time": "2024-03-26T11:51:35.264Z"
   },
   {
    "duration": 4995,
    "start_time": "2024-03-26T11:51:35.273Z"
   },
   {
    "duration": 2,
    "start_time": "2024-03-26T11:51:40.269Z"
   },
   {
    "duration": 404,
    "start_time": "2024-03-26T11:51:40.273Z"
   },
   {
    "duration": 425,
    "start_time": "2024-03-26T11:51:40.679Z"
   },
   {
    "duration": 248,
    "start_time": "2024-03-26T11:51:41.158Z"
   },
   {
    "duration": 7,
    "start_time": "2024-03-26T11:51:41.408Z"
   },
   {
    "duration": 449,
    "start_time": "2024-03-26T11:51:41.417Z"
   },
   {
    "duration": 331,
    "start_time": "2024-03-26T11:51:41.867Z"
   },
   {
    "duration": 395,
    "start_time": "2024-03-26T11:51:42.200Z"
   },
   {
    "duration": 62,
    "start_time": "2024-03-26T11:51:42.597Z"
   },
   {
    "duration": 413,
    "start_time": "2024-03-26T11:51:42.661Z"
   },
   {
    "duration": 296,
    "start_time": "2024-03-26T11:51:43.077Z"
   },
   {
    "duration": 260,
    "start_time": "2024-03-26T11:51:43.374Z"
   },
   {
    "duration": 30,
    "start_time": "2024-03-26T11:51:43.636Z"
   },
   {
    "duration": 339,
    "start_time": "2024-03-26T11:51:43.667Z"
   },
   {
    "duration": 291,
    "start_time": "2024-03-26T11:51:44.008Z"
   },
   {
    "duration": 309,
    "start_time": "2024-03-26T11:51:44.301Z"
   },
   {
    "duration": 7,
    "start_time": "2024-03-26T11:51:44.612Z"
   },
   {
    "duration": 9,
    "start_time": "2024-03-26T11:51:44.620Z"
   },
   {
    "duration": 1234,
    "start_time": "2024-03-26T11:51:44.659Z"
   },
   {
    "duration": 64,
    "start_time": "2024-03-26T11:51:45.895Z"
   },
   {
    "duration": 63,
    "start_time": "2024-03-26T11:51:45.961Z"
   },
   {
    "duration": 22,
    "start_time": "2024-03-26T11:51:46.026Z"
   },
   {
    "duration": 48,
    "start_time": "2024-03-26T11:51:46.049Z"
   },
   {
    "duration": 22,
    "start_time": "2024-03-26T11:51:46.099Z"
   },
   {
    "duration": 20,
    "start_time": "2024-03-26T11:51:46.123Z"
   },
   {
    "duration": 29,
    "start_time": "2024-03-26T11:51:46.145Z"
   },
   {
    "duration": 53404,
    "start_time": "2024-03-26T11:51:46.176Z"
   },
   {
    "duration": 591,
    "start_time": "2024-03-26T11:52:39.582Z"
   },
   {
    "duration": 1002,
    "start_time": "2024-03-26T11:52:40.174Z"
   },
   {
    "duration": 458,
    "start_time": "2024-03-26T11:52:41.178Z"
   },
   {
    "duration": 566,
    "start_time": "2024-03-26T11:52:41.638Z"
   },
   {
    "duration": 4,
    "start_time": "2024-03-26T11:52:42.205Z"
   },
   {
    "duration": 24417,
    "start_time": "2024-03-26T11:52:42.259Z"
   },
   {
    "duration": 291,
    "start_time": "2024-03-26T11:53:06.678Z"
   },
   {
    "duration": 863,
    "start_time": "2024-03-26T11:53:06.971Z"
   },
   {
    "duration": 562,
    "start_time": "2024-03-26T11:53:07.835Z"
   },
   {
    "duration": 581,
    "start_time": "2024-03-26T11:53:08.399Z"
   },
   {
    "duration": 401,
    "start_time": "2024-03-26T11:53:08.981Z"
   },
   {
    "duration": 1188,
    "start_time": "2024-03-26T11:55:51.097Z"
   },
   {
    "duration": 14891,
    "start_time": "2024-03-26T11:55:52.287Z"
   },
   {
    "duration": 8293,
    "start_time": "2024-03-26T11:56:07.180Z"
   },
   {
    "duration": 14,
    "start_time": "2024-03-26T11:56:15.476Z"
   },
   {
    "duration": 686,
    "start_time": "2024-03-26T11:56:15.492Z"
   },
   {
    "duration": 3985,
    "start_time": "2024-03-26T11:56:16.180Z"
   },
   {
    "duration": 394,
    "start_time": "2024-03-26T11:56:20.167Z"
   },
   {
    "duration": 3653,
    "start_time": "2024-03-26T11:56:20.563Z"
   },
   {
    "duration": 2730,
    "start_time": "2024-03-26T11:56:24.260Z"
   },
   {
    "duration": 3,
    "start_time": "2024-03-26T11:56:26.992Z"
   },
   {
    "duration": 5670,
    "start_time": "2024-03-26T11:56:26.997Z"
   },
   {
    "duration": 718,
    "start_time": "2024-03-26T11:56:32.669Z"
   },
   {
    "duration": 1171,
    "start_time": "2024-03-26T11:56:33.388Z"
   },
   {
    "duration": 1934,
    "start_time": "2024-03-26T11:56:34.560Z"
   },
   {
    "duration": 1428,
    "start_time": "2024-03-26T11:56:36.495Z"
   },
   {
    "duration": 13,
    "start_time": "2024-03-26T11:56:37.925Z"
   },
   {
    "duration": 4559,
    "start_time": "2024-03-26T11:56:37.960Z"
   },
   {
    "duration": 2,
    "start_time": "2024-03-26T11:56:42.521Z"
   },
   {
    "duration": 376,
    "start_time": "2024-03-26T11:56:42.524Z"
   },
   {
    "duration": 396,
    "start_time": "2024-03-26T11:56:42.902Z"
   },
   {
    "duration": 291,
    "start_time": "2024-03-26T11:56:43.300Z"
   },
   {
    "duration": 7,
    "start_time": "2024-03-26T11:56:43.593Z"
   },
   {
    "duration": 383,
    "start_time": "2024-03-26T11:56:43.602Z"
   },
   {
    "duration": 399,
    "start_time": "2024-03-26T11:56:43.986Z"
   },
   {
    "duration": 315,
    "start_time": "2024-03-26T11:56:44.387Z"
   },
   {
    "duration": 8,
    "start_time": "2024-03-26T11:56:44.704Z"
   },
   {
    "duration": 356,
    "start_time": "2024-03-26T11:56:44.713Z"
   },
   {
    "duration": 414,
    "start_time": "2024-03-26T11:56:45.072Z"
   },
   {
    "duration": 302,
    "start_time": "2024-03-26T11:56:45.489Z"
   },
   {
    "duration": 8,
    "start_time": "2024-03-26T11:56:45.792Z"
   },
   {
    "duration": 393,
    "start_time": "2024-03-26T11:56:45.802Z"
   },
   {
    "duration": 308,
    "start_time": "2024-03-26T11:56:46.197Z"
   },
   {
    "duration": 374,
    "start_time": "2024-03-26T11:56:46.506Z"
   },
   {
    "duration": 8,
    "start_time": "2024-03-26T11:56:46.882Z"
   },
   {
    "duration": 68,
    "start_time": "2024-03-26T11:56:46.891Z"
   },
   {
    "duration": 1320,
    "start_time": "2024-03-26T11:56:46.961Z"
   },
   {
    "duration": 4,
    "start_time": "2024-03-26T11:56:48.283Z"
   },
   {
    "duration": 93,
    "start_time": "2024-03-26T11:56:48.289Z"
   },
   {
    "duration": 12,
    "start_time": "2024-03-26T11:56:48.383Z"
   },
   {
    "duration": 62,
    "start_time": "2024-03-26T11:56:48.397Z"
   },
   {
    "duration": 11,
    "start_time": "2024-03-26T11:56:48.461Z"
   },
   {
    "duration": 17,
    "start_time": "2024-03-26T11:56:48.473Z"
   },
   {
    "duration": 68,
    "start_time": "2024-03-26T11:56:48.492Z"
   },
   {
    "duration": 59163,
    "start_time": "2024-03-26T11:56:48.562Z"
   },
   {
    "duration": 434,
    "start_time": "2024-03-26T11:57:47.759Z"
   },
   {
    "duration": 1167,
    "start_time": "2024-03-26T11:57:48.195Z"
   },
   {
    "duration": 544,
    "start_time": "2024-03-26T11:57:49.364Z"
   },
   {
    "duration": 567,
    "start_time": "2024-03-26T11:57:49.910Z"
   },
   {
    "duration": 7,
    "start_time": "2024-03-26T11:57:50.480Z"
   },
   {
    "duration": 25208,
    "start_time": "2024-03-26T11:57:50.489Z"
   },
   {
    "duration": 366,
    "start_time": "2024-03-26T11:58:15.699Z"
   },
   {
    "duration": 1167,
    "start_time": "2024-03-26T11:58:16.067Z"
   },
   {
    "duration": 327,
    "start_time": "2024-03-26T11:58:17.236Z"
   },
   {
    "duration": 408,
    "start_time": "2024-03-26T11:58:17.565Z"
   },
   {
    "duration": 394,
    "start_time": "2024-03-26T11:58:17.974Z"
   }
  ],
  "colab": {
   "name": "PySparkSprint.ipynb",
   "provenance": []
  },
  "kernelspec": {
   "display_name": "Python 3 (ipykernel)",
   "language": "python",
   "name": "python3"
  },
  "language_info": {
   "codemirror_mode": {
    "name": "ipython",
    "version": 3
   },
   "file_extension": ".py",
   "mimetype": "text/x-python",
   "name": "python",
   "nbconvert_exporter": "python",
   "pygments_lexer": "ipython3",
   "version": "3.9.5"
  },
  "toc": {
   "base_numbering": 1,
   "nav_menu": {},
   "number_sections": true,
   "sideBar": true,
   "skip_h1_title": true,
   "title_cell": "Table of Contents",
   "title_sidebar": "Contents",
   "toc_cell": false,
   "toc_position": {},
   "toc_section_display": true,
   "toc_window_display": false
  }
 },
 "nbformat": 4,
 "nbformat_minor": 5
}
